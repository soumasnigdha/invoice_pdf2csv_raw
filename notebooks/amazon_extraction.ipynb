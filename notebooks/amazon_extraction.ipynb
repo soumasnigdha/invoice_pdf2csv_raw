{
 "cells": [
  {
   "cell_type": "code",
   "execution_count": 372,
   "id": "8683647e",
   "metadata": {},
   "outputs": [
    {
     "data": {
      "text/plain": [
       "'d:\\\\Project\\\\invoice_pdf2csv'"
      ]
     },
     "execution_count": 372,
     "metadata": {},
     "output_type": "execute_result"
    }
   ],
   "source": [
    "import os\n",
    "import pdfplumber\n",
    "import pandas as pd\n",
    "# os.chdir(\"..\")\n",
    "os.getcwd()"
   ]
  },
  {
   "cell_type": "code",
   "execution_count": 373,
   "id": "2462372e",
   "metadata": {},
   "outputs": [],
   "source": [
    "amazon_bboxes = {\n",
    "    \n",
    "    \"bill_to_name\": (313, 202, 558, 243)\n",
    "    \n",
    "}"
   ]
  },
  {
   "cell_type": "code",
   "execution_count": 374,
   "id": "4b17fb3b",
   "metadata": {},
   "outputs": [],
   "source": [
    "pdf_path = r\"input\\amazon4.pdf\"\n",
    "invoice = {}"
   ]
  },
  {
   "cell_type": "code",
   "execution_count": 375,
   "id": "1459fdbd",
   "metadata": {},
   "outputs": [],
   "source": [
    "def extract_text_from_bbox(pdf_path, bounding_box):\n",
    "    \"\"\"\n",
    "    Extracts text from a specified bounding box within a PDF page.\n",
    "    \"\"\"\n",
    "    extracted_text = None\n",
    "    with pdfplumber.open(pdf_path) as pdf:\n",
    "        page = pdf.pages[0]  # Assuming data is on the first page\n",
    "\n",
    "        # Use the extract_text() method with the bbox parameter\n",
    "        cropped_page = page.crop(bounding_box)\n",
    "        extracted_text = cropped_page.extract_text()\n",
    "            \n",
    "    return extracted_text"
   ]
  },
  {
   "cell_type": "code",
   "execution_count": 376,
   "id": "70735a9a",
   "metadata": {},
   "outputs": [
    {
     "name": "stderr",
     "output_type": "stream",
     "text": [
      "CropBox missing from /Page, defaulting to MediaBox\n"
     ]
    }
   ],
   "source": [
    "import camelot\n",
    "\n",
    "stream_tables = camelot.read_pdf(pdf_path, pages='all', flavor='stream', suppress_stdout=False)\n",
    "list_of_dfs = []\n",
    "for i, table in enumerate(stream_tables):\n",
    "    df = table.df.copy()\n",
    "    list_of_dfs.append(df)\n",
    "\n",
    "df = list_of_dfs[0]\n",
    "seller_details = \" \".join(df[0])\n",
    "buyer_details = \" \".join(df[1])\n"
   ]
  },
  {
   "cell_type": "code",
   "execution_count": 377,
   "id": "11dd5746",
   "metadata": {},
   "outputs": [],
   "source": [
    "invoice[\"seller name\"], invoice[\"seller_address\"] = [item.strip() for item in seller_details.split(\"Sold By :\", 1)[1].split(\"PAN No:\", 1)[0].strip().split(\"*\")]"
   ]
  },
  {
   "cell_type": "code",
   "execution_count": 378,
   "id": "9f342441",
   "metadata": {},
   "outputs": [],
   "source": [
    "invoice[\"pan_number\"] = seller_details.split(\"PAN No:\", 1)[1].split(\"GST Registration No:\", 1)[0].strip()"
   ]
  },
  {
   "cell_type": "code",
   "execution_count": 379,
   "id": "aa01ad3e",
   "metadata": {},
   "outputs": [],
   "source": [
    "invoice[\"gst_number\"] = seller_details.split(\"GST Registration No:\", 1)[1].split(\"Order Number:\", 1)[0].strip()"
   ]
  },
  {
   "cell_type": "code",
   "execution_count": 380,
   "id": "7cc3b044",
   "metadata": {},
   "outputs": [],
   "source": [
    "invoice[\"order_id\"] = seller_details.split(\"Order Number:\", 1)[1].split(\"Order Date:\", 1)[0].strip()"
   ]
  },
  {
   "cell_type": "code",
   "execution_count": 381,
   "id": "e50d41fe",
   "metadata": {},
   "outputs": [],
   "source": [
    "invoice[\"order_date\"] = seller_details.split(\"Order Date:\", 1)[1].strip()"
   ]
  },
  {
   "cell_type": "code",
   "execution_count": 382,
   "id": "2227f32b",
   "metadata": {},
   "outputs": [
    {
     "data": {
      "text/plain": [
       "'Billing Address : Ramesh Chandra Mandal  5 no. Pannajhil, Rabindra Nagar, Barasat BARASAT, WEST BENGAL, 700125  IN  State/UT Code: 19  Shipping Address :  Ramesh Chandra Mandal  Soumasnigdha Pal Flat no 12, 3rd Floor, Ramakrishna Villas, 12/6, 12/7, 18th Cross, 7th Main, NS Palya, BTM 2nd Stage BENGALURU, KARNATAKA, 560076 IN State/UT Code: 29 Place of supply: KARNATAKA Place of delivery: KARNATAKA Invoice Number : BLR8-15238 Invoice Details : KA-BLR8-676187913-2526 Invoice Date : 17.05.2025'"
      ]
     },
     "execution_count": 382,
     "metadata": {},
     "output_type": "execute_result"
    }
   ],
   "source": [
    "buyer_details"
   ]
  },
  {
   "cell_type": "code",
   "execution_count": 383,
   "id": "cf2e458c",
   "metadata": {},
   "outputs": [],
   "source": [
    "invoice[\"bill_to_name\"] = df[1][1].strip()"
   ]
  },
  {
   "cell_type": "code",
   "execution_count": 384,
   "id": "b2a43995",
   "metadata": {},
   "outputs": [],
   "source": [
    "invoice[\"bill_to_address\"] = buyer_details.split(invoice['bill_to_name'], 1)[1].split(\"State/UT Code:\", 1)[0].strip()"
   ]
  },
  {
   "cell_type": "code",
   "execution_count": 385,
   "id": "1ef03fdb",
   "metadata": {},
   "outputs": [
    {
     "name": "stderr",
     "output_type": "stream",
     "text": [
      "CropBox missing from /Page, defaulting to MediaBox\n",
      "CropBox missing from /Page, defaulting to MediaBox\n"
     ]
    }
   ],
   "source": [
    "ship_to_name = extract_text_from_bbox(pdf_path, amazon_bboxes[\"bill_to_name\"]).split(\"Shipping Address :\", 1)[1].split(\"\\n\")[1:]"
   ]
  },
  {
   "cell_type": "code",
   "execution_count": 386,
   "id": "9716c2a7",
   "metadata": {},
   "outputs": [],
   "source": [
    "# ship_to_name = ship_to_name[1:]"
   ]
  },
  {
   "cell_type": "code",
   "execution_count": 387,
   "id": "f2acca8d",
   "metadata": {},
   "outputs": [],
   "source": [
    "invoice[\"ship_to_address\"] = [buyer_details.split(string)[1] for string in ship_to_name][1].split(\"State/UT Code:\", 1)[0].strip()"
   ]
  },
  {
   "cell_type": "code",
   "execution_count": null,
   "id": "3fe08321",
   "metadata": {},
   "outputs": [],
   "source": [
    "invoice[\"ship_to_name\"] = ship_to_name[1]"
   ]
  },
  {
   "cell_type": "code",
   "execution_count": 389,
   "id": "7693b1bd",
   "metadata": {},
   "outputs": [
    {
     "data": {
      "text/plain": [
       "{'seller name': 'TIGER PUG COMMERCE PRIVATE LIMITED',\n",
       " 'seller_address': 'Building 2 ( Wh 2), Plot no. 12/P2 (IT Sector),  Hitech, Defence and Aerospace Park, Devanahalli  Bengaluru, Karnataka, 562149  IN',\n",
       " 'pan_number': 'AACCN8253B',\n",
       " 'gst_number': '29AACCN8253B1ZI',\n",
       " 'order_id': '408-6682334-6844362',\n",
       " 'order_date': '17.05.2025',\n",
       " 'bill_to_name': 'Ramesh Chandra Mandal',\n",
       " 'bill_to_address': '5 no. Pannajhil, Rabindra Nagar, Barasat BARASAT, WEST BENGAL, 700125  IN',\n",
       " 'ship_to_address': 'Flat no 12, 3rd Floor, Ramakrishna Villas, 12/6, 12/7, 18th Cross, 7th Main, NS Palya, BTM 2nd Stage BENGALURU, KARNATAKA, 560076 IN',\n",
       " 'ship_to_name': 'Soumasnigdha Pal'}"
      ]
     },
     "execution_count": 389,
     "metadata": {},
     "output_type": "execute_result"
    }
   ],
   "source": [
    "invoice"
   ]
  },
  {
   "cell_type": "code",
   "execution_count": 390,
   "id": "73a30feb",
   "metadata": {},
   "outputs": [
    {
     "data": {
      "text/html": [
       "<div>\n",
       "<style scoped>\n",
       "    .dataframe tbody tr th:only-of-type {\n",
       "        vertical-align: middle;\n",
       "    }\n",
       "\n",
       "    .dataframe tbody tr th {\n",
       "        vertical-align: top;\n",
       "    }\n",
       "\n",
       "    .dataframe thead th {\n",
       "        text-align: right;\n",
       "    }\n",
       "</style>\n",
       "<table border=\"1\" class=\"dataframe\">\n",
       "  <thead>\n",
       "    <tr style=\"text-align: right;\">\n",
       "      <th></th>\n",
       "      <th>0</th>\n",
       "      <th>1</th>\n",
       "    </tr>\n",
       "  </thead>\n",
       "  <tbody>\n",
       "    <tr>\n",
       "      <th>0</th>\n",
       "      <td>Sold By :</td>\n",
       "      <td>Billing Address :</td>\n",
       "    </tr>\n",
       "    <tr>\n",
       "      <th>1</th>\n",
       "      <td>TIGER PUG COMMERCE PRIVATE LIMITED</td>\n",
       "      <td>Ramesh Chandra Mandal</td>\n",
       "    </tr>\n",
       "    <tr>\n",
       "      <th>2</th>\n",
       "      <td></td>\n",
       "      <td></td>\n",
       "    </tr>\n",
       "    <tr>\n",
       "      <th>3</th>\n",
       "      <td>* Building 2 ( Wh 2), Plot no. 12/P2 (IT Sector),</td>\n",
       "      <td>5 no. Pannajhil, Rabindra Nagar, Barasat</td>\n",
       "    </tr>\n",
       "    <tr>\n",
       "      <th>4</th>\n",
       "      <td></td>\n",
       "      <td>BARASAT, WEST BENGAL, 700125</td>\n",
       "    </tr>\n",
       "    <tr>\n",
       "      <th>5</th>\n",
       "      <td>Hitech, Defence and Aerospace Park, Devanahalli</td>\n",
       "      <td></td>\n",
       "    </tr>\n",
       "    <tr>\n",
       "      <th>6</th>\n",
       "      <td></td>\n",
       "      <td>IN</td>\n",
       "    </tr>\n",
       "    <tr>\n",
       "      <th>7</th>\n",
       "      <td>Bengaluru, Karnataka, 562149</td>\n",
       "      <td></td>\n",
       "    </tr>\n",
       "    <tr>\n",
       "      <th>8</th>\n",
       "      <td></td>\n",
       "      <td>State/UT Code: 19</td>\n",
       "    </tr>\n",
       "    <tr>\n",
       "      <th>9</th>\n",
       "      <td>IN</td>\n",
       "      <td></td>\n",
       "    </tr>\n",
       "    <tr>\n",
       "      <th>10</th>\n",
       "      <td></td>\n",
       "      <td>Shipping Address :</td>\n",
       "    </tr>\n",
       "    <tr>\n",
       "      <th>11</th>\n",
       "      <td>PAN No: AACCN8253B</td>\n",
       "      <td></td>\n",
       "    </tr>\n",
       "    <tr>\n",
       "      <th>12</th>\n",
       "      <td></td>\n",
       "      <td>Ramesh Chandra Mandal</td>\n",
       "    </tr>\n",
       "    <tr>\n",
       "      <th>13</th>\n",
       "      <td>GST Registration No: 29AACCN8253B1ZI</td>\n",
       "      <td></td>\n",
       "    </tr>\n",
       "    <tr>\n",
       "      <th>14</th>\n",
       "      <td></td>\n",
       "      <td>Soumasnigdha Pal</td>\n",
       "    </tr>\n",
       "    <tr>\n",
       "      <th>15</th>\n",
       "      <td></td>\n",
       "      <td>Flat no 12, 3rd Floor, Ramakrishna Villas, 12/6,</td>\n",
       "    </tr>\n",
       "    <tr>\n",
       "      <th>16</th>\n",
       "      <td></td>\n",
       "      <td>12/7, 18th Cross, 7th Main, NS Palya, BTM 2nd</td>\n",
       "    </tr>\n",
       "    <tr>\n",
       "      <th>17</th>\n",
       "      <td></td>\n",
       "      <td>Stage</td>\n",
       "    </tr>\n",
       "    <tr>\n",
       "      <th>18</th>\n",
       "      <td></td>\n",
       "      <td>BENGALURU, KARNATAKA, 560076</td>\n",
       "    </tr>\n",
       "    <tr>\n",
       "      <th>19</th>\n",
       "      <td></td>\n",
       "      <td>IN</td>\n",
       "    </tr>\n",
       "    <tr>\n",
       "      <th>20</th>\n",
       "      <td></td>\n",
       "      <td>State/UT Code: 29</td>\n",
       "    </tr>\n",
       "    <tr>\n",
       "      <th>21</th>\n",
       "      <td></td>\n",
       "      <td>Place of supply: KARNATAKA</td>\n",
       "    </tr>\n",
       "    <tr>\n",
       "      <th>22</th>\n",
       "      <td></td>\n",
       "      <td>Place of delivery: KARNATAKA</td>\n",
       "    </tr>\n",
       "    <tr>\n",
       "      <th>23</th>\n",
       "      <td>Order Number: 408-6682334-6844362</td>\n",
       "      <td>Invoice Number : BLR8-15238</td>\n",
       "    </tr>\n",
       "    <tr>\n",
       "      <th>24</th>\n",
       "      <td>Order Date: 17.05.2025</td>\n",
       "      <td>Invoice Details : KA-BLR8-676187913-2526</td>\n",
       "    </tr>\n",
       "    <tr>\n",
       "      <th>25</th>\n",
       "      <td></td>\n",
       "      <td>Invoice Date : 17.05.2025</td>\n",
       "    </tr>\n",
       "  </tbody>\n",
       "</table>\n",
       "</div>"
      ],
      "text/plain": [
       "                                                    0  \\\n",
       "0                                           Sold By :   \n",
       "1                  TIGER PUG COMMERCE PRIVATE LIMITED   \n",
       "2                                                       \n",
       "3   * Building 2 ( Wh 2), Plot no. 12/P2 (IT Sector),   \n",
       "4                                                       \n",
       "5     Hitech, Defence and Aerospace Park, Devanahalli   \n",
       "6                                                       \n",
       "7                        Bengaluru, Karnataka, 562149   \n",
       "8                                                       \n",
       "9                                                  IN   \n",
       "10                                                      \n",
       "11                                 PAN No: AACCN8253B   \n",
       "12                                                      \n",
       "13               GST Registration No: 29AACCN8253B1ZI   \n",
       "14                                                      \n",
       "15                                                      \n",
       "16                                                      \n",
       "17                                                      \n",
       "18                                                      \n",
       "19                                                      \n",
       "20                                                      \n",
       "21                                                      \n",
       "22                                                      \n",
       "23                  Order Number: 408-6682334-6844362   \n",
       "24                             Order Date: 17.05.2025   \n",
       "25                                                      \n",
       "\n",
       "                                                   1  \n",
       "0                                  Billing Address :  \n",
       "1                              Ramesh Chandra Mandal  \n",
       "2                                                     \n",
       "3           5 no. Pannajhil, Rabindra Nagar, Barasat  \n",
       "4                       BARASAT, WEST BENGAL, 700125  \n",
       "5                                                     \n",
       "6                                                 IN  \n",
       "7                                                     \n",
       "8                                  State/UT Code: 19  \n",
       "9                                                     \n",
       "10                                Shipping Address :  \n",
       "11                                                    \n",
       "12                             Ramesh Chandra Mandal  \n",
       "13                                                    \n",
       "14                                  Soumasnigdha Pal  \n",
       "15  Flat no 12, 3rd Floor, Ramakrishna Villas, 12/6,  \n",
       "16     12/7, 18th Cross, 7th Main, NS Palya, BTM 2nd  \n",
       "17                                             Stage  \n",
       "18                      BENGALURU, KARNATAKA, 560076  \n",
       "19                                                IN  \n",
       "20                                 State/UT Code: 29  \n",
       "21                        Place of supply: KARNATAKA  \n",
       "22                      Place of delivery: KARNATAKA  \n",
       "23                       Invoice Number : BLR8-15238  \n",
       "24          Invoice Details : KA-BLR8-676187913-2526  \n",
       "25                         Invoice Date : 17.05.2025  "
      ]
     },
     "execution_count": 390,
     "metadata": {},
     "output_type": "execute_result"
    }
   ],
   "source": [
    "df"
   ]
  },
  {
   "cell_type": "code",
   "execution_count": 391,
   "id": "734d9dfa",
   "metadata": {},
   "outputs": [],
   "source": [
    "invoice[\"invoice_number\"] = buyer_details.split(\"Invoice Details :\", 1)[1].split(\"Invoice Date :\", 1)[0].strip()"
   ]
  },
  {
   "cell_type": "code",
   "execution_count": 392,
   "id": "130aee8c",
   "metadata": {},
   "outputs": [],
   "source": [
    "invoice[\"invoice_date\"] = buyer_details.split(\"Invoice Date :\", 1)[1].strip()"
   ]
  },
  {
   "cell_type": "code",
   "execution_count": 393,
   "id": "0882fd36",
   "metadata": {},
   "outputs": [
    {
     "name": "stderr",
     "output_type": "stream",
     "text": [
      "CropBox missing from /Page, defaulting to MediaBox\n",
      "CropBox missing from /Page, defaulting to MediaBox\n"
     ]
    }
   ],
   "source": [
    "all_extracted_tables = []\n",
    "with pdfplumber.open(pdf_path) as pdf:\n",
    "        page = pdf.pages[0]\n",
    "        tables = page.extract_tables()\n",
    "if tables:\n",
    "        for i, table_data in enumerate(tables):\n",
    "                df = pd.DataFrame(table_data[1:], columns=table_data[0])\n",
    "                all_extracted_tables.append(df)"
   ]
  },
  {
   "cell_type": "code",
   "execution_count": 394,
   "id": "0533d84c",
   "metadata": {},
   "outputs": [],
   "source": [
    "invoice[\"product_name\"] = \" \".join(all_extracted_tables[0][\"Description\"][0].split(\"HSN:\", 1)[0].split(\"\\n\")).strip()"
   ]
  },
  {
   "cell_type": "code",
   "execution_count": 395,
   "id": "62df982e",
   "metadata": {},
   "outputs": [],
   "source": [
    "invoice[\"product_category\"] = None"
   ]
  },
  {
   "cell_type": "code",
   "execution_count": 396,
   "id": "c2e51af4",
   "metadata": {},
   "outputs": [
    {
     "data": {
      "text/html": [
       "<div>\n",
       "<style scoped>\n",
       "    .dataframe tbody tr th:only-of-type {\n",
       "        vertical-align: middle;\n",
       "    }\n",
       "\n",
       "    .dataframe tbody tr th {\n",
       "        vertical-align: top;\n",
       "    }\n",
       "\n",
       "    .dataframe thead th {\n",
       "        text-align: right;\n",
       "    }\n",
       "</style>\n",
       "<table border=\"1\" class=\"dataframe\">\n",
       "  <thead>\n",
       "    <tr style=\"text-align: right;\">\n",
       "      <th></th>\n",
       "      <th>Sl.\\nNo</th>\n",
       "      <th>Description</th>\n",
       "      <th>Unit\\nPrice</th>\n",
       "      <th>Qty</th>\n",
       "      <th>Net\\nAmount</th>\n",
       "      <th>Tax\\nRate</th>\n",
       "      <th>Tax\\nType</th>\n",
       "      <th>Tax\\nAmount</th>\n",
       "      <th>Total\\nAmount</th>\n",
       "    </tr>\n",
       "  </thead>\n",
       "  <tbody>\n",
       "    <tr>\n",
       "      <th>0</th>\n",
       "      <td>1</td>\n",
       "      <td>YATWIN Silicone Back Case for iPhone 12 Mini, ...</td>\n",
       "      <td>₹254.24</td>\n",
       "      <td>1</td>\n",
       "      <td>₹254.24</td>\n",
       "      <td>9%\\n9%</td>\n",
       "      <td>CGST\\nSGST</td>\n",
       "      <td>₹22.88\\n₹22.88</td>\n",
       "      <td>₹300.00</td>\n",
       "    </tr>\n",
       "    <tr>\n",
       "      <th>1</th>\n",
       "      <td>TOTAL:</td>\n",
       "      <td>None</td>\n",
       "      <td>None</td>\n",
       "      <td>None</td>\n",
       "      <td>None</td>\n",
       "      <td>None</td>\n",
       "      <td>None</td>\n",
       "      <td>₹45.76</td>\n",
       "      <td>₹300.00</td>\n",
       "    </tr>\n",
       "    <tr>\n",
       "      <th>2</th>\n",
       "      <td>Amount in Words:\\nThree Hundred only</td>\n",
       "      <td>None</td>\n",
       "      <td>None</td>\n",
       "      <td>None</td>\n",
       "      <td>None</td>\n",
       "      <td>None</td>\n",
       "      <td>None</td>\n",
       "      <td>None</td>\n",
       "      <td>None</td>\n",
       "    </tr>\n",
       "    <tr>\n",
       "      <th>3</th>\n",
       "      <td>For TIGER PUG COMMERCE PRIVATE LIMITED:\\nAutho...</td>\n",
       "      <td>None</td>\n",
       "      <td>None</td>\n",
       "      <td>None</td>\n",
       "      <td>None</td>\n",
       "      <td>None</td>\n",
       "      <td>None</td>\n",
       "      <td>None</td>\n",
       "      <td>None</td>\n",
       "    </tr>\n",
       "  </tbody>\n",
       "</table>\n",
       "</div>"
      ],
      "text/plain": [
       "                                             Sl.\\nNo  \\\n",
       "0                                                  1   \n",
       "1                                             TOTAL:   \n",
       "2               Amount in Words:\\nThree Hundred only   \n",
       "3  For TIGER PUG COMMERCE PRIVATE LIMITED:\\nAutho...   \n",
       "\n",
       "                                         Description Unit\\nPrice   Qty  \\\n",
       "0  YATWIN Silicone Back Case for iPhone 12 Mini, ...     ₹254.24     1   \n",
       "1                                               None        None  None   \n",
       "2                                               None        None  None   \n",
       "3                                               None        None  None   \n",
       "\n",
       "  Net\\nAmount Tax\\nRate   Tax\\nType     Tax\\nAmount Total\\nAmount  \n",
       "0     ₹254.24    9%\\n9%  CGST\\nSGST  ₹22.88\\n₹22.88       ₹300.00  \n",
       "1        None      None        None          ₹45.76       ₹300.00  \n",
       "2        None      None        None            None          None  \n",
       "3        None      None        None            None          None  "
      ]
     },
     "execution_count": 396,
     "metadata": {},
     "output_type": "execute_result"
    }
   ],
   "source": [
    "all_extracted_tables[0]"
   ]
  },
  {
   "cell_type": "code",
   "execution_count": 397,
   "id": "a4db4ae9",
   "metadata": {},
   "outputs": [],
   "source": [
    "invoice[\"product_taxable_value\"] = all_extracted_tables[0][\"Net\\nAmount\"][0].strip(\"₹\")"
   ]
  },
  {
   "cell_type": "code",
   "execution_count": 398,
   "id": "775c7d01",
   "metadata": {},
   "outputs": [
    {
     "data": {
      "text/plain": [
       "'254.24'"
      ]
     },
     "execution_count": 398,
     "metadata": {},
     "output_type": "execute_result"
    }
   ],
   "source": [
    "invoice[\"product_taxable_value\"]"
   ]
  },
  {
   "cell_type": "code",
   "execution_count": 399,
   "id": "13c05683",
   "metadata": {},
   "outputs": [],
   "source": [
    "invoice[\"GST\"] = str(pd.to_numeric(all_extracted_tables[0][\"Tax\\nAmount\"].astype(str).str.strip(\"₹\"), errors='coerce').sum())"
   ]
  },
  {
   "cell_type": "code",
   "execution_count": 400,
   "id": "f9e72700",
   "metadata": {},
   "outputs": [],
   "source": [
    "invoice[\"product_quantity\"] = all_extracted_tables[0][\"Qty\"][0]"
   ]
  },
  {
   "cell_type": "code",
   "execution_count": 401,
   "id": "66a5fcc5",
   "metadata": {},
   "outputs": [],
   "source": [
    "invoice[\"product_total\"] = all_extracted_tables[0][\"Total\\nAmount\"][0].strip(\"₹\")"
   ]
  },
  {
   "cell_type": "code",
   "execution_count": 402,
   "id": "f031243d",
   "metadata": {},
   "outputs": [
    {
     "data": {
      "text/plain": [
       "{'seller name': 'TIGER PUG COMMERCE PRIVATE LIMITED',\n",
       " 'seller_address': 'Building 2 ( Wh 2), Plot no. 12/P2 (IT Sector),  Hitech, Defence and Aerospace Park, Devanahalli  Bengaluru, Karnataka, 562149  IN',\n",
       " 'pan_number': 'AACCN8253B',\n",
       " 'gst_number': '29AACCN8253B1ZI',\n",
       " 'order_id': '408-6682334-6844362',\n",
       " 'order_date': '17.05.2025',\n",
       " 'bill_to_name': 'Ramesh Chandra Mandal',\n",
       " 'bill_to_address': '5 no. Pannajhil, Rabindra Nagar, Barasat BARASAT, WEST BENGAL, 700125  IN',\n",
       " 'ship_to_address': 'Flat no 12, 3rd Floor, Ramakrishna Villas, 12/6, 12/7, 18th Cross, 7th Main, NS Palya, BTM 2nd Stage BENGALURU, KARNATAKA, 560076 IN',\n",
       " 'ship_to_name': 'Soumasnigdha Pal',\n",
       " 'invoice_number': 'KA-BLR8-676187913-2526',\n",
       " 'invoice_date': '17.05.2025',\n",
       " 'product_name': 'YATWIN Silicone Back Case for iPhone 12 Mini, Soft-Touch Phone Back Cover for Apple iPhone 12 Mini - Lavender Grey | B0F21DZZ92 ( FGJ IP 12 Mini Grey-Indias )',\n",
       " 'product_category': None,\n",
       " 'product_taxable_value': '254.24',\n",
       " 'GST': '45.76',\n",
       " 'product_quantity': '1',\n",
       " 'product_total': '300.00'}"
      ]
     },
     "execution_count": 402,
     "metadata": {},
     "output_type": "execute_result"
    }
   ],
   "source": [
    "invoice"
   ]
  },
  {
   "cell_type": "code",
   "execution_count": null,
   "id": "bc92060c",
   "metadata": {},
   "outputs": [],
   "source": []
  }
 ],
 "metadata": {
  "kernelspec": {
   "display_name": "Python 3",
   "language": "python",
   "name": "python3"
  },
  "language_info": {
   "codemirror_mode": {
    "name": "ipython",
    "version": 3
   },
   "file_extension": ".py",
   "mimetype": "text/x-python",
   "name": "python",
   "nbconvert_exporter": "python",
   "pygments_lexer": "ipython3",
   "version": "3.12.0"
  }
 },
 "nbformat": 4,
 "nbformat_minor": 5
}
