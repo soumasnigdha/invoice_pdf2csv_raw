{
 "cells": [
  {
   "cell_type": "code",
   "execution_count": 374,
   "id": "68414ad6",
   "metadata": {},
   "outputs": [
    {
     "data": {
      "text/plain": [
       "'d:\\\\Project\\\\invoice_pdf2csv'"
      ]
     },
     "execution_count": 374,
     "metadata": {},
     "output_type": "execute_result"
    }
   ],
   "source": [
    "import pdfplumber\n",
    "import re\n",
    "import os\n",
    "# os.chdir(\"..\")\n",
    "os.getcwd()"
   ]
  },
  {
   "cell_type": "code",
   "execution_count": 375,
   "id": "f13e1490",
   "metadata": {},
   "outputs": [],
   "source": [
    "invoice = {}"
   ]
  },
  {
   "cell_type": "code",
   "execution_count": 376,
   "id": "af2ef723",
   "metadata": {},
   "outputs": [],
   "source": [
    "pdf_path = r\"input\\flipkart2.pdf\""
   ]
  },
  {
   "cell_type": "code",
   "execution_count": 377,
   "id": "d510552f",
   "metadata": {},
   "outputs": [],
   "source": [
    "flipkart_bboxes = {\n",
    "    \"invoice_number\": (413, 80, 570, 100),\n",
    "    \"seller_details\": (4, 22, 413, 100),\n",
    "    \"order_details\": (4, 110, 143, 225),\n",
    "    \"billing_address\": (144, 110, 279, 225),\n",
    "    \"shipping_address\": (280, 110, 420, 225),\n",
    "    \"product_details\": (4, 282, 100, 430),\n",
    "    # \"product_name\": (102, 282, 260, 400),\n",
    "    # \"product_quantity\": (262, 282, 294, 340),\n",
    "    # \"product_gross_amoount\": (304, 282, 342, 340),\n",
    "    # \"product_discount_coupon\": (350, 282, 398, 340),\n",
    "    # \"product_taxable_value\": (410, 282, 468, 340),\n",
    "    # \"product_gst\": (470, 282, 525, 340),\n",
    "    # \"product_total\": (525, 282, 570, 340),\n",
    "    # \"shipping_gross_amoount\": (304, 342, 342, 420),\n",
    "    # \"shipping_discount_coupon\": (350, 342, 398, 420),\n",
    "    # \"shipping_taxable_value\": (410, 342, 468, 420),\n",
    "    # \"shipping_gst\": (470, 342, 525, 420),\n",
    "    # \"shipping_total\": (525, 342, 570, 420),\n",
    "    # \"grand_total\": (485, 472, 580, 500),\n",
    "    # \"gst_type\": (470, 250, 525, 280),\n",
    "    # \"amount_table\": (4, 230, 575, 460)\n",
    "}"
   ]
  },
  {
   "cell_type": "code",
   "execution_count": 378,
   "id": "d3a03838",
   "metadata": {},
   "outputs": [],
   "source": [
    "def debug_bbox(pdf_path, target_bboxes):\n",
    "    try:\n",
    "        with pdfplumber.open(pdf_path) as pdf:\n",
    "            page = pdf.pages[0] # Assuming the data is on the first page\n",
    "\n",
    "            # Create an image of the page\n",
    "            im = page.to_image()\n",
    "\n",
    "            colors = [\"red\", \"blue\", \"green\", \"purple\", \"orange\", \"cyan\", \"magenta\"]\n",
    "            color_index = 0\n",
    "\n",
    "            for name, bbox_coords in target_bboxes.items():\n",
    "                color = colors[color_index % len(colors)] # Cycle through colors\n",
    "                im.draw_rect(bbox_coords, stroke=color, stroke_width=2, fill=None) # fill=None means no fill\n",
    "                print(f\"Drawing '{name}' in {color}.\")\n",
    "                color_index += 1\n",
    "\n",
    "            # Save the image to a file to inspect\n",
    "            im.save(\"debug_bbox_target.png\")\n",
    "\n",
    "        print(f\"Debug image 'debug_bbox_target.png' created\")\n",
    "\n",
    "    except FileNotFoundError:\n",
    "        print(f\"Error: The PDF file '{pdf_path}' was not found. Please check the path.\")\n",
    "    except Exception as e:\n",
    "        print(f\"An error occurred: {e}\")"
   ]
  },
  {
   "cell_type": "code",
   "execution_count": 379,
   "id": "37c20d66",
   "metadata": {},
   "outputs": [
    {
     "name": "stderr",
     "output_type": "stream",
     "text": [
      "CropBox missing from /Page, defaulting to MediaBox\n",
      "CropBox missing from /Page, defaulting to MediaBox\n"
     ]
    },
    {
     "name": "stdout",
     "output_type": "stream",
     "text": [
      "Drawing 'invoice_number' in red.\n",
      "Drawing 'seller_details' in blue.\n",
      "Drawing 'order_details' in green.\n",
      "Drawing 'billing_address' in purple.\n",
      "Drawing 'shipping_address' in orange.\n",
      "Drawing 'product_details' in cyan.\n",
      "Debug image 'debug_bbox_target.png' created\n"
     ]
    }
   ],
   "source": [
    "debug_bbox(pdf_path, flipkart_bboxes)"
   ]
  },
  {
   "cell_type": "code",
   "execution_count": 380,
   "id": "78a5199e",
   "metadata": {},
   "outputs": [],
   "source": [
    "def extract_text_from_bbox(pdf_path, bounding_box):\n",
    "    \"\"\"\n",
    "    Extracts text from a specified bounding box within a PDF page.\n",
    "\n",
    "    Args:\n",
    "        pdf_path (str): The path to the PDF file.\n",
    "        target_bbox (tuple): A tuple (x0, top, x1, bottom) defining the bounding box\n",
    "                             from which to extract text. Coordinates are in PDF points.\n",
    "\n",
    "    Returns:\n",
    "        str: The extracted text from the specified bounding box, or None if no text is found.\n",
    "    \"\"\"\n",
    "    extracted_text = None\n",
    "    with pdfplumber.open(pdf_path) as pdf:\n",
    "        page = pdf.pages[0]  # Assuming data is on the first page\n",
    "\n",
    "        # Use the extract_text() method with the bbox parameter\n",
    "        cropped_page = page.crop(bounding_box)\n",
    "        extracted_text = cropped_page.extract_text()\n",
    "            \n",
    "    return extracted_text"
   ]
  },
  {
   "cell_type": "code",
   "execution_count": 381,
   "id": "e72216e9",
   "metadata": {},
   "outputs": [
    {
     "name": "stderr",
     "output_type": "stream",
     "text": [
      "CropBox missing from /Page, defaulting to MediaBox\n",
      "CropBox missing from /Page, defaulting to MediaBox\n",
      "CropBox missing from /Page, defaulting to MediaBox\n",
      "CropBox missing from /Page, defaulting to MediaBox\n",
      "CropBox missing from /Page, defaulting to MediaBox\n",
      "CropBox missing from /Page, defaulting to MediaBox\n",
      "CropBox missing from /Page, defaulting to MediaBox\n",
      "CropBox missing from /Page, defaulting to MediaBox\n",
      "CropBox missing from /Page, defaulting to MediaBox\n",
      "CropBox missing from /Page, defaulting to MediaBox\n",
      "CropBox missing from /Page, defaulting to MediaBox\n",
      "CropBox missing from /Page, defaulting to MediaBox\n"
     ]
    },
    {
     "name": "stdout",
     "output_type": "stream",
     "text": [
      "\n",
      "--- Content of extracted_text_output ---\n",
      "invoice_number: '['Invoice Number # EAAAAC-66692608']'\n",
      "seller_details: '['Tax Invoice', 'Sold By: Jeeves consumer services Private Limited ,', 'Ship-from Address: L-169, 13th Cross, 5th Main,, Sector - 6, HSR Layout,, BANGALORE , KARNATAKA, 560102, IN-KA', 'GSTIN - 29AABCJ9421C1ZP']'\n",
      "order_details: '['Order ID:', 'OD329896130732373100', 'Order Date: 13-12-2023', 'Invoice Date: 13-12-2023', 'PAN: AABCJ9421C']'\n",
      "billing_address: '['Bill To', 'NIDHI Srivastava', 'MMMTU Gorakhpur, Deoriya', 'road Singhariya kunraghat', 'gorakhpur.', 'Gorakhpur 273016 Uttar', 'Pradesh', 'Phone: xxxxxxxxxx']'\n",
      "shipping_address: '['Ship To', 'NIDHI Srivastava', 'MMMTU Gorakhpur, Deoriya', 'road Singhariya kunraghat', 'gorakhpur.', 'Gorakhpur 273016 Uttar', 'Pradesh', 'Phone: xxxxxxxxxx']'\n",
      "product_details: '['Digital Voucher Code', 'FSN: DGVGFXDYJMCCH8P', 'HSN/SAC: 997331']'\n"
     ]
    }
   ],
   "source": [
    "extracted_text_output = {}\n",
    "for name, bbox in flipkart_bboxes.items():\n",
    "    text = extract_text_from_bbox(pdf_path, bbox)\n",
    "    # Store the extracted text using the same name (key) as the bbox\n",
    "    extracted_text_output[name] = text.split(\"\\n\")\n",
    "\n",
    "print(\"\\n--- Content of extracted_text_output ---\")\n",
    "for key, value in extracted_text_output.items():\n",
    "    print(f\"{key}: '{value}'\")"
   ]
  },
  {
   "cell_type": "code",
   "execution_count": 382,
   "id": "d4a63e98",
   "metadata": {},
   "outputs": [],
   "source": [
    "invoice[\"invoice_number\"] = re.search(r\"Invoice Number #\\s+([A-Z0-9]+)\", extracted_text_output['invoice_number'][0]).group(1).strip()"
   ]
  },
  {
   "cell_type": "code",
   "execution_count": 383,
   "id": "294308d6",
   "metadata": {},
   "outputs": [
    {
     "data": {
      "text/plain": [
       "('Sold By: Jeeves consumer services Private Limited ,',\n",
       " 'Ship-from Address: L-169, 13th Cross, 5th Main,, Sector - 6, HSR Layout,, BANGALORE , KARNATAKA, 560102, IN-KA',\n",
       " 'GSTIN - 29AABCJ9421C1ZP')"
      ]
     },
     "execution_count": 383,
     "metadata": {},
     "output_type": "execute_result"
    }
   ],
   "source": [
    "extracted_text_output['seller_details'][1], \" \".join(extracted_text_output['seller_details'][2:-1]), extracted_text_output['seller_details'][-1]"
   ]
  },
  {
   "cell_type": "code",
   "execution_count": 384,
   "id": "af6ff1cd",
   "metadata": {},
   "outputs": [],
   "source": [
    "invoice[\"seller_name\"] = extracted_text_output['seller_details'][1][len(\"Sold By: \"):-2]"
   ]
  },
  {
   "cell_type": "code",
   "execution_count": 385,
   "id": "ff9f171a",
   "metadata": {},
   "outputs": [],
   "source": [
    "invoice[\"seller_address\"] = \" \".join(extracted_text_output['seller_details'][2:-1])[len(\"Ship-from Address: \"):-1].strip()"
   ]
  },
  {
   "cell_type": "code",
   "execution_count": 386,
   "id": "2f28c65a",
   "metadata": {},
   "outputs": [],
   "source": [
    "invoice[\"gst_number\"] = extracted_text_output['seller_details'][-1][len(\"GSTIN - \"):]"
   ]
  },
  {
   "cell_type": "code",
   "execution_count": 387,
   "id": "e1d62705",
   "metadata": {},
   "outputs": [
    {
     "data": {
      "text/plain": [
       "['Order ID:',\n",
       " 'OD329896130732373100',\n",
       " 'Order Date: 13-12-2023',\n",
       " 'Invoice Date: 13-12-2023',\n",
       " 'PAN: AABCJ9421C']"
      ]
     },
     "execution_count": 387,
     "metadata": {},
     "output_type": "execute_result"
    }
   ],
   "source": [
    "extracted_text_output['order_details']"
   ]
  },
  {
   "cell_type": "code",
   "execution_count": 388,
   "id": "c1fac0aa",
   "metadata": {},
   "outputs": [],
   "source": [
    "invoice[\"order_id\"] = extracted_text_output['order_details'][1].strip()\n",
    "invoice[\"order_date\"] = extracted_text_output['order_details'][2][len(\"Order Date: \"):].strip()\n",
    "invoice[\"invoice_date\"] = extracted_text_output['order_details'][3][len(\"Invoice Date: \"):].strip()\n",
    "invoice[\"pan_number\"] = extracted_text_output['order_details'][4][len(\"PAN: \"):].strip()\n",
    "# invoice[\"corporate_identification_number\"] = extracted_text_output['order_details'][5][len(\"CIN: \"):].strip()"
   ]
  },
  {
   "cell_type": "code",
   "execution_count": 389,
   "id": "d72efa43",
   "metadata": {},
   "outputs": [
    {
     "data": {
      "text/plain": [
       "['Bill To',\n",
       " 'NIDHI Srivastava',\n",
       " 'MMMTU Gorakhpur, Deoriya',\n",
       " 'road Singhariya kunraghat',\n",
       " 'gorakhpur.',\n",
       " 'Gorakhpur 273016 Uttar',\n",
       " 'Pradesh',\n",
       " 'Phone: xxxxxxxxxx']"
      ]
     },
     "execution_count": 389,
     "metadata": {},
     "output_type": "execute_result"
    }
   ],
   "source": [
    "extracted_text_output[\"billing_address\"]"
   ]
  },
  {
   "cell_type": "code",
   "execution_count": 390,
   "id": "00325c94",
   "metadata": {},
   "outputs": [],
   "source": [
    "invoice[\"bill_to_name\"] = extracted_text_output[\"billing_address\"][1].strip()\n",
    "invoice[\"bill_to_address\"] = \" \".join(extracted_text_output[\"billing_address\"][2:-1]).strip()\n",
    "# invoice[\"bill_to_phone_number\"] = extracted_text_output[\"billing_address\"][-1][len(\"Phone: \"):].strip()"
   ]
  },
  {
   "cell_type": "code",
   "execution_count": 391,
   "id": "9c07d14d",
   "metadata": {},
   "outputs": [
    {
     "data": {
      "text/plain": [
       "['Ship To',\n",
       " 'NIDHI Srivastava',\n",
       " 'MMMTU Gorakhpur, Deoriya',\n",
       " 'road Singhariya kunraghat',\n",
       " 'gorakhpur.',\n",
       " 'Gorakhpur 273016 Uttar',\n",
       " 'Pradesh',\n",
       " 'Phone: xxxxxxxxxx']"
      ]
     },
     "execution_count": 391,
     "metadata": {},
     "output_type": "execute_result"
    }
   ],
   "source": [
    "extracted_text_output['shipping_address']"
   ]
  },
  {
   "cell_type": "code",
   "execution_count": 392,
   "id": "eebbccb1",
   "metadata": {},
   "outputs": [],
   "source": [
    "invoice[\"ship_to_name\"] = extracted_text_output[\"shipping_address\"][1].strip()\n",
    "invoice[\"ship_to_address\"] = \" \".join(extracted_text_output[\"shipping_address\"][2:-1]).strip()\n",
    "# invoice[\"ship_to_phone_number\"] = extracted_text_output[\"shipping_address\"][-1][len(\"Phone: \"):].strip()"
   ]
  },
  {
   "cell_type": "code",
   "execution_count": 393,
   "id": "b8b7c4f5",
   "metadata": {},
   "outputs": [
    {
     "data": {
      "text/plain": [
       "['Digital Voucher Code', 'FSN: DGVGFXDYJMCCH8P', 'HSN/SAC: 997331']"
      ]
     },
     "execution_count": 393,
     "metadata": {},
     "output_type": "execute_result"
    }
   ],
   "source": [
    "extracted_text_output[\"product_details\"]"
   ]
  },
  {
   "cell_type": "code",
   "execution_count": 394,
   "id": "9b9e7bbe",
   "metadata": {},
   "outputs": [],
   "source": [
    "invoice[\"product_category\"] = extracted_text_output[\"product_details\"][0].strip()"
   ]
  },
  {
   "cell_type": "code",
   "execution_count": 395,
   "id": "95a45300",
   "metadata": {},
   "outputs": [
    {
     "name": "stderr",
     "output_type": "stream",
     "text": [
      "CropBox missing from /Page, defaulting to MediaBox\n"
     ]
    },
    {
     "data": {
      "text/html": [
       "<div>\n",
       "<style scoped>\n",
       "    .dataframe tbody tr th:only-of-type {\n",
       "        vertical-align: middle;\n",
       "    }\n",
       "\n",
       "    .dataframe tbody tr th {\n",
       "        vertical-align: top;\n",
       "    }\n",
       "\n",
       "    .dataframe thead th {\n",
       "        text-align: right;\n",
       "    }\n",
       "</style>\n",
       "<table border=\"1\" class=\"dataframe\">\n",
       "  <thead>\n",
       "    <tr style=\"text-align: right;\">\n",
       "      <th></th>\n",
       "      <th>0</th>\n",
       "      <th>1</th>\n",
       "      <th>2</th>\n",
       "      <th>3</th>\n",
       "      <th>4</th>\n",
       "      <th>5</th>\n",
       "      <th>6</th>\n",
       "    </tr>\n",
       "  </thead>\n",
       "  <tbody>\n",
       "    <tr>\n",
       "      <th>0</th>\n",
       "      <td></td>\n",
       "      <td>Phone: xxxxxxxxxx</td>\n",
       "      <td>Phone: xxxxxxxxxx</td>\n",
       "      <td></td>\n",
       "      <td></td>\n",
       "      <td></td>\n",
       "      <td></td>\n",
       "    </tr>\n",
       "    <tr>\n",
       "      <th>1</th>\n",
       "      <td>Total items: 1</td>\n",
       "      <td></td>\n",
       "      <td></td>\n",
       "      <td></td>\n",
       "      <td></td>\n",
       "      <td></td>\n",
       "      <td></td>\n",
       "    </tr>\n",
       "    <tr>\n",
       "      <th>2</th>\n",
       "      <td>Product</td>\n",
       "      <td>Title</td>\n",
       "      <td>Qty\\nGross</td>\n",
       "      <td>Discounts</td>\n",
       "      <td>Taxable</td>\n",
       "      <td>IGST</td>\n",
       "      <td>Total ₹</td>\n",
       "    </tr>\n",
       "    <tr>\n",
       "      <th>3</th>\n",
       "      <td></td>\n",
       "      <td></td>\n",
       "      <td>Amount ₹</td>\n",
       "      <td>/Coupons ₹</td>\n",
       "      <td>Value ₹</td>\n",
       "      <td>₹</td>\n",
       "      <td></td>\n",
       "    </tr>\n",
       "    <tr>\n",
       "      <th>4</th>\n",
       "      <td>Digital Voucher Code</td>\n",
       "      <td>MICROSOFT 365 Personal</td>\n",
       "      <td>1\\n1098.00</td>\n",
       "      <td>-1098.00</td>\n",
       "      <td>0.00</td>\n",
       "      <td>0.00</td>\n",
       "      <td>0.00</td>\n",
       "    </tr>\n",
       "    <tr>\n",
       "      <th>5</th>\n",
       "      <td>FSN: DGVGFXDYJMCCH8P6</td>\n",
       "      <td>6 Month subscription</td>\n",
       "      <td></td>\n",
       "      <td></td>\n",
       "      <td></td>\n",
       "      <td></td>\n",
       "      <td></td>\n",
       "    </tr>\n",
       "    <tr>\n",
       "      <th>6</th>\n",
       "      <td>HSN/SAC: 997331</td>\n",
       "      <td>included</td>\n",
       "      <td></td>\n",
       "      <td></td>\n",
       "      <td></td>\n",
       "      <td></td>\n",
       "      <td></td>\n",
       "    </tr>\n",
       "    <tr>\n",
       "      <th>7</th>\n",
       "      <td></td>\n",
       "      <td>IGST:\\n 18.0 %</td>\n",
       "      <td></td>\n",
       "      <td></td>\n",
       "      <td></td>\n",
       "      <td></td>\n",
       "      <td></td>\n",
       "    </tr>\n",
       "  </tbody>\n",
       "</table>\n",
       "</div>"
      ],
      "text/plain": [
       "                       0                       1                  2  \\\n",
       "0                              Phone: xxxxxxxxxx  Phone: xxxxxxxxxx   \n",
       "1         Total items: 1                                              \n",
       "2                Product                   Title         Qty\\nGross   \n",
       "3                                                          Amount ₹   \n",
       "4   Digital Voucher Code  MICROSOFT 365 Personal         1\\n1098.00   \n",
       "5  FSN: DGVGFXDYJMCCH8P6    6 Month subscription                      \n",
       "6        HSN/SAC: 997331                included                      \n",
       "7                                 IGST:\\n 18.0 %                      \n",
       "\n",
       "            3        4     5        6  \n",
       "0                                      \n",
       "1                                      \n",
       "2   Discounts  Taxable  IGST  Total ₹  \n",
       "3  /Coupons ₹  Value ₹     ₹           \n",
       "4    -1098.00     0.00  0.00     0.00  \n",
       "5                                      \n",
       "6                                      \n",
       "7                                      "
      ]
     },
     "execution_count": 395,
     "metadata": {},
     "output_type": "execute_result"
    }
   ],
   "source": [
    "import camelot\n",
    "\n",
    "stream_tables = camelot.read_pdf(pdf_path, pages='all', flavor='stream', suppress_stdout=False)\n",
    "list_of_dfs = []\n",
    "for i, table in enumerate(stream_tables):\n",
    "    df = table.df.copy()\n",
    "    list_of_dfs.append(df)\n",
    "\n",
    "df = list_of_dfs[1]\n",
    "df\n"
   ]
  },
  {
   "cell_type": "code",
   "execution_count": 396,
   "id": "13d06a9c",
   "metadata": {},
   "outputs": [],
   "source": [
    "import numpy as np\n",
    "import pandas as pd\n",
    "\n",
    "#For some invoices columns may be merged. Seperating the columns for them.\n",
    "columns_to_split = 5, 2, 1, 0\n",
    "for target_column_name in columns_to_split:\n",
    "        if target_column_name in df.columns:\n",
    "            # 1. Split the target column by '\\n'.\n",
    "            split_parts = df[target_column_name].astype(str).str.split('\\n', n=1, expand=True)\n",
    "\n",
    "            # Check if split_parts has only one column (meaning no '\\n' was found in any row)\n",
    "            if split_parts.shape[1] == 1:\n",
    "                # If only one column, it means all original values go to the 'right' column.\n",
    "                new_col_left_values = np.full(len(df), np.nan)\n",
    "                new_col_right_values = split_parts[0] \n",
    "            else:\n",
    "                # If two columns, proceed as before (splitting occurred)\n",
    "                # Identify rows where no newline was found (split_parts[1] will be NaN).\n",
    "                no_split_mask = split_parts[1].isna()\n",
    "\n",
    "                # 3. Prepare the new values for the 'left' (original column) and 'right' (new column).\n",
    "                new_col_left_values = np.where(no_split_mask, np.nan, split_parts[0])\n",
    "                new_col_right_values = np.where(no_split_mask, split_parts[0], split_parts[1])\n",
    "\n",
    "\n",
    "            # Get the current list of column names and find the index of the target column.\n",
    "            cols = df.columns.tolist()\n",
    "            try:\n",
    "                target_col_index = cols.index(target_column_name)\n",
    "            except ValueError:\n",
    "                print(f\"Error: Column '{target_column_name}' not found in the DataFrame.\")\n",
    "                exit()\n",
    "\n",
    "            # Insert the new column at the correct position.\n",
    "            df.insert(loc=target_col_index + 1, column='TEMP_NEW_COL', value=new_col_right_values)\n",
    "\n",
    "            # Assign the prepared 'left' values back to the original target column.\n",
    "            df[target_column_name] = new_col_left_values\n",
    "\n",
    "            # Rename the newly inserted column.\n",
    "            renaming_map = {'TEMP_NEW_COL': target_column_name+1}\n",
    "\n",
    "            for col_idx in range(target_col_index + 1, len(cols)):\n",
    "                original_shifted_col_name = cols[col_idx]\n",
    "                try:\n",
    "                    new_shifted_col_name = int(original_shifted_col_name) + 1\n",
    "                    renaming_map[original_shifted_col_name] = new_shifted_col_name\n",
    "                except ValueError:\n",
    "                    pass # Keeping non-numeric column names as they are\n",
    "\n",
    "            df = df.rename(columns=renaming_map)\n",
    "\n",
    "        else:\n",
    "            print(f\"Column '{target_column_name}' not found in the DataFrame. No transformation applied.\")"
   ]
  },
  {
   "cell_type": "code",
   "execution_count": 397,
   "id": "ab7251f6",
   "metadata": {},
   "outputs": [
    {
     "data": {
      "text/html": [
       "<div>\n",
       "<style scoped>\n",
       "    .dataframe tbody tr th:only-of-type {\n",
       "        vertical-align: middle;\n",
       "    }\n",
       "\n",
       "    .dataframe tbody tr th {\n",
       "        vertical-align: top;\n",
       "    }\n",
       "\n",
       "    .dataframe thead th {\n",
       "        text-align: right;\n",
       "    }\n",
       "</style>\n",
       "<table border=\"1\" class=\"dataframe\">\n",
       "  <thead>\n",
       "    <tr style=\"text-align: right;\">\n",
       "      <th></th>\n",
       "      <th>0</th>\n",
       "      <th>1</th>\n",
       "      <th>2</th>\n",
       "      <th>3</th>\n",
       "      <th>4</th>\n",
       "      <th>5</th>\n",
       "      <th>6</th>\n",
       "      <th>7</th>\n",
       "      <th>8</th>\n",
       "      <th>9</th>\n",
       "      <th>10</th>\n",
       "    </tr>\n",
       "  </thead>\n",
       "  <tbody>\n",
       "    <tr>\n",
       "      <th>0</th>\n",
       "      <td>NaN</td>\n",
       "      <td></td>\n",
       "      <td>NaN</td>\n",
       "      <td>Phone: xxxxxxxxxx</td>\n",
       "      <td>NaN</td>\n",
       "      <td>Phone: xxxxxxxxxx</td>\n",
       "      <td></td>\n",
       "      <td></td>\n",
       "      <td>NaN</td>\n",
       "      <td></td>\n",
       "      <td></td>\n",
       "    </tr>\n",
       "    <tr>\n",
       "      <th>1</th>\n",
       "      <td>NaN</td>\n",
       "      <td>Total items: 1</td>\n",
       "      <td>NaN</td>\n",
       "      <td></td>\n",
       "      <td>NaN</td>\n",
       "      <td></td>\n",
       "      <td></td>\n",
       "      <td></td>\n",
       "      <td>NaN</td>\n",
       "      <td></td>\n",
       "      <td></td>\n",
       "    </tr>\n",
       "    <tr>\n",
       "      <th>2</th>\n",
       "      <td>NaN</td>\n",
       "      <td>Product</td>\n",
       "      <td>NaN</td>\n",
       "      <td>Title</td>\n",
       "      <td>Qty</td>\n",
       "      <td>Gross</td>\n",
       "      <td>Discounts</td>\n",
       "      <td>Taxable</td>\n",
       "      <td>NaN</td>\n",
       "      <td>IGST</td>\n",
       "      <td>Total ₹</td>\n",
       "    </tr>\n",
       "    <tr>\n",
       "      <th>3</th>\n",
       "      <td>NaN</td>\n",
       "      <td></td>\n",
       "      <td>NaN</td>\n",
       "      <td></td>\n",
       "      <td>NaN</td>\n",
       "      <td>Amount ₹</td>\n",
       "      <td>/Coupons ₹</td>\n",
       "      <td>Value ₹</td>\n",
       "      <td>NaN</td>\n",
       "      <td>₹</td>\n",
       "      <td></td>\n",
       "    </tr>\n",
       "    <tr>\n",
       "      <th>4</th>\n",
       "      <td>NaN</td>\n",
       "      <td>Digital Voucher Code</td>\n",
       "      <td>NaN</td>\n",
       "      <td>MICROSOFT 365 Personal</td>\n",
       "      <td>1</td>\n",
       "      <td>1098.00</td>\n",
       "      <td>-1098.00</td>\n",
       "      <td>0.00</td>\n",
       "      <td>NaN</td>\n",
       "      <td>0.00</td>\n",
       "      <td>0.00</td>\n",
       "    </tr>\n",
       "    <tr>\n",
       "      <th>5</th>\n",
       "      <td>NaN</td>\n",
       "      <td>FSN: DGVGFXDYJMCCH8P6</td>\n",
       "      <td>NaN</td>\n",
       "      <td>6 Month subscription</td>\n",
       "      <td>NaN</td>\n",
       "      <td></td>\n",
       "      <td></td>\n",
       "      <td></td>\n",
       "      <td>NaN</td>\n",
       "      <td></td>\n",
       "      <td></td>\n",
       "    </tr>\n",
       "    <tr>\n",
       "      <th>6</th>\n",
       "      <td>NaN</td>\n",
       "      <td>HSN/SAC: 997331</td>\n",
       "      <td>NaN</td>\n",
       "      <td>included</td>\n",
       "      <td>NaN</td>\n",
       "      <td></td>\n",
       "      <td></td>\n",
       "      <td></td>\n",
       "      <td>NaN</td>\n",
       "      <td></td>\n",
       "      <td></td>\n",
       "    </tr>\n",
       "    <tr>\n",
       "      <th>7</th>\n",
       "      <td>NaN</td>\n",
       "      <td></td>\n",
       "      <td>IGST:</td>\n",
       "      <td>18.0 %</td>\n",
       "      <td>NaN</td>\n",
       "      <td></td>\n",
       "      <td></td>\n",
       "      <td></td>\n",
       "      <td>NaN</td>\n",
       "      <td></td>\n",
       "      <td></td>\n",
       "    </tr>\n",
       "  </tbody>\n",
       "</table>\n",
       "</div>"
      ],
      "text/plain": [
       "   0                      1      2                       3    4   \\\n",
       "0 NaN                           NaN       Phone: xxxxxxxxxx  NaN   \n",
       "1 NaN         Total items: 1    NaN                          NaN   \n",
       "2 NaN                Product    NaN                   Title  Qty   \n",
       "3 NaN                           NaN                          NaN   \n",
       "4 NaN   Digital Voucher Code    NaN  MICROSOFT 365 Personal    1   \n",
       "5 NaN  FSN: DGVGFXDYJMCCH8P6    NaN    6 Month subscription  NaN   \n",
       "6 NaN        HSN/SAC: 997331    NaN                included  NaN   \n",
       "7 NaN                         IGST:                  18.0 %  NaN   \n",
       "\n",
       "                  5           6        7   8     9        10  \n",
       "0  Phone: xxxxxxxxxx                      NaN                 \n",
       "1                                         NaN                 \n",
       "2              Gross   Discounts  Taxable NaN  IGST  Total ₹  \n",
       "3           Amount ₹  /Coupons ₹  Value ₹ NaN     ₹           \n",
       "4            1098.00    -1098.00     0.00 NaN  0.00     0.00  \n",
       "5                                         NaN                 \n",
       "6                                         NaN                 \n",
       "7                                         NaN                 "
      ]
     },
     "execution_count": 397,
     "metadata": {},
     "output_type": "execute_result"
    }
   ],
   "source": [
    "df"
   ]
  },
  {
   "cell_type": "code",
   "execution_count": 398,
   "id": "32957bc4",
   "metadata": {},
   "outputs": [],
   "source": [
    "def index_finder(string_to_find, df):\n",
    "    found_occurrences = []\n",
    "    for column_name in df.columns:\n",
    "        contains_string_mask = df[column_name].astype(str).str.contains(string_to_find, case=False, na=False)\n",
    "\n",
    "        matching_row_indices_in_this_column = df.index[contains_string_mask].tolist()\n",
    "\n",
    "        for row_idx in matching_row_indices_in_this_column:\n",
    "            found_occurrences.append([row_idx, column_name])\n",
    "\n",
    "    return found_occurrences"
   ]
  },
  {
   "cell_type": "code",
   "execution_count": 399,
   "id": "d3a648da",
   "metadata": {},
   "outputs": [],
   "source": [
    "def product_name_extractor(df):\n",
    "    # Looking for the colomn that contains \"Title\"\n",
    "    # if index_finder(\"Title\", df):\n",
    "    match_indices = index_finder(\"Title\", df)\n",
    "    # elif index_finder(\"Shipping And Packaging Charges\", df):\n",
    "    #     match_indices = index_finder(\"Shipping And Packaging Charges\", df)\n",
    "    # Checking for the first occurance of \":\" and removing everything below it including \":\" row.\n",
    "    title = df.iloc[4:, match_indices[0][1]]\n",
    "    if title.astype(str).str.contains(\":\").any():\n",
    "        column_match_found = title.astype(str).str.contains(\":\")\n",
    "    elif title.astype(str).str.contains(\"%\").any():\n",
    "        column_match_found = title.astype(str).str.contains(\"%\")\n",
    "    index_to_start_removal = title[column_match_found].index[0]\n",
    "    indices_to_keep = title.index[title.index < index_to_start_removal]\n",
    "    product_name = \" \".join(title.loc[indices_to_keep]).strip(\" \")\n",
    "    return product_name"
   ]
  },
  {
   "cell_type": "code",
   "execution_count": 400,
   "id": "4470db46",
   "metadata": {},
   "outputs": [],
   "source": [
    "invoice[\"product_name\"] = product_name_extractor(df)"
   ]
  },
  {
   "cell_type": "code",
   "execution_count": 401,
   "id": "d617527f",
   "metadata": {},
   "outputs": [],
   "source": [
    "if df[index_finder(\"Qty\", df)[0][1]].isnull().any():\n",
    "  rows_to_add = int(df[df[index_finder(\"Qty\", df)[0][1]].notnull()].index.to_list()[1]) - (int(index_finder(\"Qty\", df)[0][0]))"
   ]
  },
  {
   "cell_type": "code",
   "execution_count": 402,
   "id": "1d43032f",
   "metadata": {},
   "outputs": [],
   "source": [
    "if (df[index_finder(\"Qty\", df)[0][1]].astype(str).str.strip() == '').any():\n",
    "  rows_to_add = int(df[df[index_finder(\"Qty\", df)[0][1]].astype(str).str.strip() != ''].index.to_list()[1]) - int(index_finder(\"Qty\", df)[0][0])"
   ]
  },
  {
   "cell_type": "code",
   "execution_count": 403,
   "id": "a056f10f",
   "metadata": {},
   "outputs": [
    {
     "data": {
      "text/plain": [
       "2"
      ]
     },
     "execution_count": 403,
     "metadata": {},
     "output_type": "execute_result"
    }
   ],
   "source": [
    "rows_to_add"
   ]
  },
  {
   "cell_type": "code",
   "execution_count": 404,
   "id": "3f1d06a1",
   "metadata": {},
   "outputs": [],
   "source": [
    "invoice[\"product_quantity\"] = df.iloc[index_finder(\"Qty\", df)[0][0]+ rows_to_add, index_finder(\"Qty\", df)[0][1]]\n"
   ]
  },
  {
   "cell_type": "code",
   "execution_count": 405,
   "id": "4f4f4126",
   "metadata": {},
   "outputs": [
    {
     "data": {
      "text/html": [
       "<div>\n",
       "<style scoped>\n",
       "    .dataframe tbody tr th:only-of-type {\n",
       "        vertical-align: middle;\n",
       "    }\n",
       "\n",
       "    .dataframe tbody tr th {\n",
       "        vertical-align: top;\n",
       "    }\n",
       "\n",
       "    .dataframe thead th {\n",
       "        text-align: right;\n",
       "    }\n",
       "</style>\n",
       "<table border=\"1\" class=\"dataframe\">\n",
       "  <thead>\n",
       "    <tr style=\"text-align: right;\">\n",
       "      <th></th>\n",
       "      <th>0</th>\n",
       "      <th>1</th>\n",
       "      <th>2</th>\n",
       "      <th>3</th>\n",
       "      <th>4</th>\n",
       "      <th>5</th>\n",
       "      <th>6</th>\n",
       "      <th>7</th>\n",
       "      <th>8</th>\n",
       "      <th>9</th>\n",
       "      <th>10</th>\n",
       "    </tr>\n",
       "  </thead>\n",
       "  <tbody>\n",
       "    <tr>\n",
       "      <th>0</th>\n",
       "      <td>NaN</td>\n",
       "      <td></td>\n",
       "      <td>NaN</td>\n",
       "      <td>Phone: xxxxxxxxxx</td>\n",
       "      <td>NaN</td>\n",
       "      <td>Phone: xxxxxxxxxx</td>\n",
       "      <td></td>\n",
       "      <td></td>\n",
       "      <td>NaN</td>\n",
       "      <td></td>\n",
       "      <td></td>\n",
       "    </tr>\n",
       "    <tr>\n",
       "      <th>1</th>\n",
       "      <td>NaN</td>\n",
       "      <td>Total items: 1</td>\n",
       "      <td>NaN</td>\n",
       "      <td></td>\n",
       "      <td>NaN</td>\n",
       "      <td></td>\n",
       "      <td></td>\n",
       "      <td></td>\n",
       "      <td>NaN</td>\n",
       "      <td></td>\n",
       "      <td></td>\n",
       "    </tr>\n",
       "    <tr>\n",
       "      <th>2</th>\n",
       "      <td>NaN</td>\n",
       "      <td>Product</td>\n",
       "      <td>NaN</td>\n",
       "      <td>Title</td>\n",
       "      <td>Qty</td>\n",
       "      <td>Gross</td>\n",
       "      <td>Discounts</td>\n",
       "      <td>Taxable</td>\n",
       "      <td>NaN</td>\n",
       "      <td>IGST</td>\n",
       "      <td>Total ₹</td>\n",
       "    </tr>\n",
       "    <tr>\n",
       "      <th>3</th>\n",
       "      <td>NaN</td>\n",
       "      <td></td>\n",
       "      <td>NaN</td>\n",
       "      <td></td>\n",
       "      <td>NaN</td>\n",
       "      <td>Amount ₹</td>\n",
       "      <td>/Coupons ₹</td>\n",
       "      <td>Value ₹</td>\n",
       "      <td>NaN</td>\n",
       "      <td>₹</td>\n",
       "      <td></td>\n",
       "    </tr>\n",
       "    <tr>\n",
       "      <th>4</th>\n",
       "      <td>NaN</td>\n",
       "      <td>Digital Voucher Code</td>\n",
       "      <td>NaN</td>\n",
       "      <td>MICROSOFT 365 Personal</td>\n",
       "      <td>1</td>\n",
       "      <td>1098.00</td>\n",
       "      <td>-1098.00</td>\n",
       "      <td>0.00</td>\n",
       "      <td>NaN</td>\n",
       "      <td>0.00</td>\n",
       "      <td>0.00</td>\n",
       "    </tr>\n",
       "    <tr>\n",
       "      <th>5</th>\n",
       "      <td>NaN</td>\n",
       "      <td>FSN: DGVGFXDYJMCCH8P6</td>\n",
       "      <td>NaN</td>\n",
       "      <td>6 Month subscription</td>\n",
       "      <td>NaN</td>\n",
       "      <td></td>\n",
       "      <td></td>\n",
       "      <td></td>\n",
       "      <td>NaN</td>\n",
       "      <td></td>\n",
       "      <td></td>\n",
       "    </tr>\n",
       "    <tr>\n",
       "      <th>6</th>\n",
       "      <td>NaN</td>\n",
       "      <td>HSN/SAC: 997331</td>\n",
       "      <td>NaN</td>\n",
       "      <td>included</td>\n",
       "      <td>NaN</td>\n",
       "      <td></td>\n",
       "      <td></td>\n",
       "      <td></td>\n",
       "      <td>NaN</td>\n",
       "      <td></td>\n",
       "      <td></td>\n",
       "    </tr>\n",
       "    <tr>\n",
       "      <th>7</th>\n",
       "      <td>NaN</td>\n",
       "      <td></td>\n",
       "      <td>IGST:</td>\n",
       "      <td>18.0 %</td>\n",
       "      <td>NaN</td>\n",
       "      <td></td>\n",
       "      <td></td>\n",
       "      <td></td>\n",
       "      <td>NaN</td>\n",
       "      <td></td>\n",
       "      <td></td>\n",
       "    </tr>\n",
       "  </tbody>\n",
       "</table>\n",
       "</div>"
      ],
      "text/plain": [
       "   0                      1      2                       3    4   \\\n",
       "0 NaN                           NaN       Phone: xxxxxxxxxx  NaN   \n",
       "1 NaN         Total items: 1    NaN                          NaN   \n",
       "2 NaN                Product    NaN                   Title  Qty   \n",
       "3 NaN                           NaN                          NaN   \n",
       "4 NaN   Digital Voucher Code    NaN  MICROSOFT 365 Personal    1   \n",
       "5 NaN  FSN: DGVGFXDYJMCCH8P6    NaN    6 Month subscription  NaN   \n",
       "6 NaN        HSN/SAC: 997331    NaN                included  NaN   \n",
       "7 NaN                         IGST:                  18.0 %  NaN   \n",
       "\n",
       "                  5           6        7   8     9        10  \n",
       "0  Phone: xxxxxxxxxx                      NaN                 \n",
       "1                                         NaN                 \n",
       "2              Gross   Discounts  Taxable NaN  IGST  Total ₹  \n",
       "3           Amount ₹  /Coupons ₹  Value ₹ NaN     ₹           \n",
       "4            1098.00    -1098.00     0.00 NaN  0.00     0.00  \n",
       "5                                         NaN                 \n",
       "6                                         NaN                 \n",
       "7                                         NaN                 "
      ]
     },
     "execution_count": 405,
     "metadata": {},
     "output_type": "execute_result"
    }
   ],
   "source": [
    "df"
   ]
  },
  {
   "cell_type": "code",
   "execution_count": 406,
   "id": "3e9ef6ec",
   "metadata": {},
   "outputs": [],
   "source": [
    "# invoice[\"product_discount_coupons\"] = df.iloc[index_finder(\"Discounts\", df)[0][0] + rows_to_add, index_finder(\"Discounts\", df)[0][1]]\n",
    "# invoice[\"shipping_discount_coupons\"] = df.iloc[-1, index_finder(\"Discounts\", df)[0][1]]"
   ]
  },
  {
   "cell_type": "code",
   "execution_count": 407,
   "id": "e342044f",
   "metadata": {},
   "outputs": [],
   "source": [
    "invoice[\"product_taxable_value\"] = df.iloc[index_finder(\"Taxable\", df)[0][0] + rows_to_add, index_finder(\"Taxable\", df)[0][1]]\n",
    "# invoice[\"shipping_taxable_value\"] = df.iloc[-1, index_finder(\"Taxable\", df)[0][1]]"
   ]
  },
  {
   "cell_type": "code",
   "execution_count": 408,
   "id": "2c92da86",
   "metadata": {},
   "outputs": [],
   "source": [
    "invoice[\"product_total\"] = df.iloc[index_finder(\"Total ₹\", df)[0][0] + rows_to_add, index_finder(\"Total ₹\", df)[0][1]]\n",
    "# invoice[\"shipping_total\"] = df.iloc[-1, index_finder(\"Total ₹\", df)[0][1]]"
   ]
  },
  {
   "cell_type": "code",
   "execution_count": 409,
   "id": "9ed31df0",
   "metadata": {},
   "outputs": [],
   "source": [
    "if index_finder(\"SGST\", df):\n",
    "    invoice[\"GST\"] = str(float(df.iloc[index_finder(\"SGST\", df)[1][0] + rows_to_add, index_finder(\"SGST\", df)[1][1]]) + float(df.iloc[index_finder(\"CGST\", df)[1][0]+3, index_finder(\"CGST\", df)[1][1]]))"
   ]
  },
  {
   "cell_type": "code",
   "execution_count": 410,
   "id": "48b24b0e",
   "metadata": {},
   "outputs": [],
   "source": [
    "if index_finder(\"IGST\", df):\n",
    "  invoice[\"GST\"] = df.iloc[index_finder(\"IGST\", df)[1][0] + rows_to_add, index_finder(\"IGST\", df)[1][1]]\n"
   ]
  },
  {
   "cell_type": "code",
   "execution_count": 411,
   "id": "7972095e",
   "metadata": {},
   "outputs": [],
   "source": [
    "if index_finder(\"UGST\", df):\n",
    "  invoice[\"GST\"] = df.iloc[index_finder(\"UGST\", df)[1][0] + rows_to_add, index_finder(\"UGST\", df)[1][1]]\n"
   ]
  },
  {
   "cell_type": "code",
   "execution_count": 412,
   "id": "94139751",
   "metadata": {},
   "outputs": [],
   "source": [
    "# invoice[\"grand_total\"] = str(float(invoice[\"product_total\"]) + float(invoice[\"shipping_total\"]))\n"
   ]
  },
  {
   "cell_type": "code",
   "execution_count": 413,
   "id": "65921010",
   "metadata": {},
   "outputs": [
    {
     "data": {
      "text/plain": [
       "{'invoice_number': 'EAAAAC',\n",
       " 'seller_name': 'Jeeves consumer services Private Limited',\n",
       " 'seller_address': 'L-169, 13th Cross, 5th Main,, Sector - 6, HSR Layout,, BANGALORE , KARNATAKA, 560102, IN-K',\n",
       " 'gst_number': '29AABCJ9421C1ZP',\n",
       " 'order_id': 'OD329896130732373100',\n",
       " 'order_date': '13-12-2023',\n",
       " 'invoice_date': '13-12-2023',\n",
       " 'pan_number': 'AABCJ9421C',\n",
       " 'bill_to_name': 'NIDHI Srivastava',\n",
       " 'bill_to_address': 'MMMTU Gorakhpur, Deoriya road Singhariya kunraghat gorakhpur. Gorakhpur 273016 Uttar Pradesh',\n",
       " 'ship_to_name': 'NIDHI Srivastava',\n",
       " 'ship_to_address': 'MMMTU Gorakhpur, Deoriya road Singhariya kunraghat gorakhpur. Gorakhpur 273016 Uttar Pradesh',\n",
       " 'product_category': 'Digital Voucher Code',\n",
       " 'product_name': 'MICROSOFT 365 Personal 6 Month subscription included',\n",
       " 'product_quantity': '1',\n",
       " 'product_taxable_value': '0.00',\n",
       " 'product_total': '0.00',\n",
       " 'GST': '0.00'}"
      ]
     },
     "execution_count": 413,
     "metadata": {},
     "output_type": "execute_result"
    }
   ],
   "source": [
    "invoice"
   ]
  },
  {
   "cell_type": "markdown",
   "id": "1260d2b0",
   "metadata": {},
   "source": []
  }
 ],
 "metadata": {
  "kernelspec": {
   "display_name": "Python 3",
   "language": "python",
   "name": "python3"
  },
  "language_info": {
   "codemirror_mode": {
    "name": "ipython",
    "version": 3
   },
   "file_extension": ".py",
   "mimetype": "text/x-python",
   "name": "python",
   "nbconvert_exporter": "python",
   "pygments_lexer": "ipython3",
   "version": "3.12.0"
  }
 },
 "nbformat": 4,
 "nbformat_minor": 5
}
