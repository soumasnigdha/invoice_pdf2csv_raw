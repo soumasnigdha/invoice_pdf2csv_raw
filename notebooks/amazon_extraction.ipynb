{
 "cells": [
  {
   "cell_type": "code",
   "execution_count": 332,
   "id": "8683647e",
   "metadata": {},
   "outputs": [
    {
     "data": {
      "text/plain": [
       "'d:\\\\Project\\\\invoice_pdf2csv'"
      ]
     },
     "execution_count": 332,
     "metadata": {},
     "output_type": "execute_result"
    }
   ],
   "source": [
    "import os\n",
    "import pdfplumber\n",
    "import pandas as pd\n",
    "# os.chdir(\"..\")\n",
    "os.getcwd()"
   ]
  },
  {
   "cell_type": "code",
   "execution_count": 333,
   "id": "2462372e",
   "metadata": {},
   "outputs": [],
   "source": [
    "amazon_bboxes = {\n",
    "    \n",
    "    \"bill_to_name\": (313, 190, 558, 250)\n",
    "    \n",
    "}"
   ]
  },
  {
   "cell_type": "code",
   "execution_count": 334,
   "id": "4b17fb3b",
   "metadata": {},
   "outputs": [],
   "source": [
    "pdf_path = r\"input\\amazon1.pdf\"\n",
    "invoice = {}"
   ]
  },
  {
   "cell_type": "code",
   "execution_count": 335,
   "id": "1459fdbd",
   "metadata": {},
   "outputs": [],
   "source": [
    "def extract_text_from_bbox(pdf_path, bounding_box):\n",
    "    \"\"\"\n",
    "    Extracts text from a specified bounding box within a PDF page.\n",
    "    \"\"\"\n",
    "    extracted_text = None\n",
    "    with pdfplumber.open(pdf_path) as pdf:\n",
    "        page = pdf.pages[0]  # Assuming data is on the first page\n",
    "\n",
    "        # Use the extract_text() method with the bbox parameter\n",
    "        cropped_page = page.crop(bounding_box)\n",
    "        extracted_text = cropped_page.extract_text()\n",
    "            \n",
    "    return extracted_text"
   ]
  },
  {
   "cell_type": "code",
   "execution_count": 336,
   "id": "70735a9a",
   "metadata": {},
   "outputs": [
    {
     "name": "stderr",
     "output_type": "stream",
     "text": [
      "CropBox missing from /Page, defaulting to MediaBox\n"
     ]
    }
   ],
   "source": [
    "import camelot\n",
    "\n",
    "stream_tables = camelot.read_pdf(pdf_path, pages='all', flavor='stream', suppress_stdout=False)\n",
    "list_of_dfs = []\n",
    "for i, table in enumerate(stream_tables):\n",
    "    df = table.df.copy()\n",
    "    list_of_dfs.append(df)\n",
    "\n",
    "df = list_of_dfs[0]\n",
    "seller_details = \" \".join(df[0])\n",
    "buyer_details = \" \".join(df[1])\n"
   ]
  },
  {
   "cell_type": "code",
   "execution_count": 337,
   "id": "11dd5746",
   "metadata": {},
   "outputs": [],
   "source": [
    "invoice[\"seller name\"], invoice[\"seller_address\"] = [item.strip() for item in seller_details.split(\"Sold By :\", 1)[1].split(\"PAN No:\", 1)[0].strip().split(\"*\")]"
   ]
  },
  {
   "cell_type": "code",
   "execution_count": 338,
   "id": "9f342441",
   "metadata": {},
   "outputs": [],
   "source": [
    "invoice[\"pan_number\"] = seller_details.split(\"PAN No:\", 1)[1].split(\"GST Registration No:\", 1)[0].strip()"
   ]
  },
  {
   "cell_type": "code",
   "execution_count": 339,
   "id": "aa01ad3e",
   "metadata": {},
   "outputs": [],
   "source": [
    "invoice[\"gst_number\"] = seller_details.split(\"GST Registration No:\", 1)[1].split(\"Order Number:\", 1)[0][:15].strip()"
   ]
  },
  {
   "cell_type": "code",
   "execution_count": 340,
   "id": "7cc3b044",
   "metadata": {},
   "outputs": [],
   "source": [
    "invoice[\"order_id\"] = seller_details.split(\"Order Number:\", 1)[1].split(\"Order Date:\", 1)[0].strip()"
   ]
  },
  {
   "cell_type": "code",
   "execution_count": 341,
   "id": "e50d41fe",
   "metadata": {},
   "outputs": [],
   "source": [
    "invoice[\"order_date\"] = seller_details.split(\"Order Date:\", 1)[1].strip()"
   ]
  },
  {
   "cell_type": "code",
   "execution_count": 342,
   "id": "2227f32b",
   "metadata": {},
   "outputs": [
    {
     "data": {
      "text/plain": [
       "'Billing Address : Ashish Srivastava  Block A Flat 201 Sonestaa Meadows thubrahalli, Whitefield bangalore  Bengaluru, KARNATAKA, 560066  IN  State/UT Code: 29    Shipping Address : Ashish Srivastava Ashish Srivastava Block A Flat 201 Sonestaa Meadows thubrahalli,  Whitefield bangalore  Bengaluru, KARNATAKA, 560066 IN State/UT Code: 29 Place of supply: KARNATAKA Place of delivery: KARNATAKA Invoice Number : LKO1-2209551 Invoice Details : UP-LKO1-1931441115-2324 Invoice Date : 04.12.2023'"
      ]
     },
     "execution_count": 342,
     "metadata": {},
     "output_type": "execute_result"
    }
   ],
   "source": [
    "buyer_details"
   ]
  },
  {
   "cell_type": "code",
   "execution_count": 343,
   "id": "cf2e458c",
   "metadata": {},
   "outputs": [],
   "source": [
    "invoice[\"bill_to_name\"] = df[1][1].strip()"
   ]
  },
  {
   "cell_type": "code",
   "execution_count": 344,
   "id": "b2a43995",
   "metadata": {},
   "outputs": [],
   "source": [
    "invoice[\"bill_to_address\"] = buyer_details.split(invoice['bill_to_name'], 1)[1].split(\"State/UT Code:\", 1)[0].strip()"
   ]
  },
  {
   "cell_type": "code",
   "execution_count": 345,
   "id": "1ef03fdb",
   "metadata": {},
   "outputs": [
    {
     "name": "stderr",
     "output_type": "stream",
     "text": [
      "CropBox missing from /Page, defaulting to MediaBox\n",
      "CropBox missing from /Page, defaulting to MediaBox\n"
     ]
    }
   ],
   "source": [
    "ship_to_name = extract_text_from_bbox(pdf_path, amazon_bboxes[\"bill_to_name\"]).split(\"Shipping Address :\", 1)[1].split(\"\\n\")[1:]"
   ]
  },
  {
   "cell_type": "code",
   "execution_count": 346,
   "id": "f2acca8d",
   "metadata": {},
   "outputs": [],
   "source": [
    "invoice[\"ship_to_address\"] = [buyer_details.split(string)[1] for string in ship_to_name][1].split(\"State/UT Code:\", 1)[0].strip()"
   ]
  },
  {
   "cell_type": "code",
   "execution_count": 347,
   "id": "3fe08321",
   "metadata": {},
   "outputs": [],
   "source": [
    "invoice[\"ship_to_name\"] = ship_to_name[1]"
   ]
  },
  {
   "cell_type": "code",
   "execution_count": 348,
   "id": "7693b1bd",
   "metadata": {},
   "outputs": [
    {
     "data": {
      "text/plain": [
       "{'seller name': 'RETAILEZ PRIVATE LIMITED',\n",
       " 'seller_address': 'Khasra numbers:444(P),445(P),459(P),  460,461,462,463,464,  465,466,467,468,469,470,471,472,473,474,,,  75(P),476,477,478, 479,480,  481,482,483(P),491,492,493(P) Village - Bhaukapur, Lucknow, Uttar Pradesh, 226401 IN',\n",
       " 'pan_number': 'AALCR3173P',\n",
       " 'gst_number': '09AALCR3173P1Z',\n",
       " 'order_id': '405-8002819-1037154',\n",
       " 'order_date': '04.12.2023',\n",
       " 'bill_to_name': 'Ashish Srivastava',\n",
       " 'bill_to_address': 'Block A Flat 201 Sonestaa Meadows thubrahalli, Whitefield bangalore  Bengaluru, KARNATAKA, 560066  IN',\n",
       " 'ship_to_address': 'Block A Flat 201 Sonestaa Meadows thubrahalli, Whitefield bangalore  Bengaluru, KARNATAKA, 560066  IN',\n",
       " 'ship_to_name': 'Ashish Srivastava'}"
      ]
     },
     "execution_count": 348,
     "metadata": {},
     "output_type": "execute_result"
    }
   ],
   "source": [
    "invoice"
   ]
  },
  {
   "cell_type": "code",
   "execution_count": 349,
   "id": "73a30feb",
   "metadata": {},
   "outputs": [
    {
     "data": {
      "text/html": [
       "<div>\n",
       "<style scoped>\n",
       "    .dataframe tbody tr th:only-of-type {\n",
       "        vertical-align: middle;\n",
       "    }\n",
       "\n",
       "    .dataframe tbody tr th {\n",
       "        vertical-align: top;\n",
       "    }\n",
       "\n",
       "    .dataframe thead th {\n",
       "        text-align: right;\n",
       "    }\n",
       "</style>\n",
       "<table border=\"1\" class=\"dataframe\">\n",
       "  <thead>\n",
       "    <tr style=\"text-align: right;\">\n",
       "      <th></th>\n",
       "      <th>0</th>\n",
       "      <th>1</th>\n",
       "    </tr>\n",
       "  </thead>\n",
       "  <tbody>\n",
       "    <tr>\n",
       "      <th>0</th>\n",
       "      <td>Sold By :</td>\n",
       "      <td>Billing Address :</td>\n",
       "    </tr>\n",
       "    <tr>\n",
       "      <th>1</th>\n",
       "      <td>RETAILEZ PRIVATE LIMITED</td>\n",
       "      <td>Ashish Srivastava</td>\n",
       "    </tr>\n",
       "    <tr>\n",
       "      <th>2</th>\n",
       "      <td></td>\n",
       "      <td></td>\n",
       "    </tr>\n",
       "    <tr>\n",
       "      <th>3</th>\n",
       "      <td>* Khasra numbers:444(P),445(P),459(P),</td>\n",
       "      <td>Block A Flat 201 Sonestaa Meadows thubrahalli,</td>\n",
       "    </tr>\n",
       "    <tr>\n",
       "      <th>4</th>\n",
       "      <td></td>\n",
       "      <td>Whitefield bangalore</td>\n",
       "    </tr>\n",
       "    <tr>\n",
       "      <th>5</th>\n",
       "      <td>460,461,462,463,464,</td>\n",
       "      <td></td>\n",
       "    </tr>\n",
       "    <tr>\n",
       "      <th>6</th>\n",
       "      <td></td>\n",
       "      <td>Bengaluru, KARNATAKA, 560066</td>\n",
       "    </tr>\n",
       "    <tr>\n",
       "      <th>7</th>\n",
       "      <td>465,466,467,468,469,470,471,472,473,474,,,</td>\n",
       "      <td></td>\n",
       "    </tr>\n",
       "    <tr>\n",
       "      <th>8</th>\n",
       "      <td></td>\n",
       "      <td>IN</td>\n",
       "    </tr>\n",
       "    <tr>\n",
       "      <th>9</th>\n",
       "      <td>75(P),476,477,478, 479,480,</td>\n",
       "      <td></td>\n",
       "    </tr>\n",
       "    <tr>\n",
       "      <th>10</th>\n",
       "      <td></td>\n",
       "      <td>State/UT Code: 29</td>\n",
       "    </tr>\n",
       "    <tr>\n",
       "      <th>11</th>\n",
       "      <td>481,482,483(P),491,492,493(P) Village -</td>\n",
       "      <td></td>\n",
       "    </tr>\n",
       "    <tr>\n",
       "      <th>12</th>\n",
       "      <td>Bhaukapur,</td>\n",
       "      <td></td>\n",
       "    </tr>\n",
       "    <tr>\n",
       "      <th>13</th>\n",
       "      <td>Lucknow, Uttar Pradesh, 226401</td>\n",
       "      <td></td>\n",
       "    </tr>\n",
       "    <tr>\n",
       "      <th>14</th>\n",
       "      <td>IN</td>\n",
       "      <td>Shipping Address :</td>\n",
       "    </tr>\n",
       "    <tr>\n",
       "      <th>15</th>\n",
       "      <td></td>\n",
       "      <td>Ashish Srivastava</td>\n",
       "    </tr>\n",
       "    <tr>\n",
       "      <th>16</th>\n",
       "      <td></td>\n",
       "      <td>Ashish Srivastava</td>\n",
       "    </tr>\n",
       "    <tr>\n",
       "      <th>17</th>\n",
       "      <td></td>\n",
       "      <td>Block A Flat 201 Sonestaa Meadows thubrahalli,</td>\n",
       "    </tr>\n",
       "    <tr>\n",
       "      <th>18</th>\n",
       "      <td>PAN No: AALCR3173P</td>\n",
       "      <td></td>\n",
       "    </tr>\n",
       "    <tr>\n",
       "      <th>19</th>\n",
       "      <td></td>\n",
       "      <td>Whitefield bangalore</td>\n",
       "    </tr>\n",
       "    <tr>\n",
       "      <th>20</th>\n",
       "      <td>GST Registration No: 09AALCR3173P1ZL</td>\n",
       "      <td></td>\n",
       "    </tr>\n",
       "    <tr>\n",
       "      <th>21</th>\n",
       "      <td></td>\n",
       "      <td>Bengaluru, KARNATAKA, 560066</td>\n",
       "    </tr>\n",
       "    <tr>\n",
       "      <th>22</th>\n",
       "      <td></td>\n",
       "      <td>IN</td>\n",
       "    </tr>\n",
       "    <tr>\n",
       "      <th>23</th>\n",
       "      <td></td>\n",
       "      <td>State/UT Code: 29</td>\n",
       "    </tr>\n",
       "    <tr>\n",
       "      <th>24</th>\n",
       "      <td></td>\n",
       "      <td>Place of supply: KARNATAKA</td>\n",
       "    </tr>\n",
       "    <tr>\n",
       "      <th>25</th>\n",
       "      <td></td>\n",
       "      <td>Place of delivery: KARNATAKA</td>\n",
       "    </tr>\n",
       "    <tr>\n",
       "      <th>26</th>\n",
       "      <td>Order Number: 405-8002819-1037154</td>\n",
       "      <td>Invoice Number : LKO1-2209551</td>\n",
       "    </tr>\n",
       "    <tr>\n",
       "      <th>27</th>\n",
       "      <td>Order Date: 04.12.2023</td>\n",
       "      <td>Invoice Details : UP-LKO1-1931441115-2324</td>\n",
       "    </tr>\n",
       "    <tr>\n",
       "      <th>28</th>\n",
       "      <td></td>\n",
       "      <td>Invoice Date : 04.12.2023</td>\n",
       "    </tr>\n",
       "  </tbody>\n",
       "</table>\n",
       "</div>"
      ],
      "text/plain": [
       "                                             0  \\\n",
       "0                                    Sold By :   \n",
       "1                     RETAILEZ PRIVATE LIMITED   \n",
       "2                                                \n",
       "3       * Khasra numbers:444(P),445(P),459(P),   \n",
       "4                                                \n",
       "5                         460,461,462,463,464,   \n",
       "6                                                \n",
       "7   465,466,467,468,469,470,471,472,473,474,,,   \n",
       "8                                                \n",
       "9                  75(P),476,477,478, 479,480,   \n",
       "10                                               \n",
       "11     481,482,483(P),491,492,493(P) Village -   \n",
       "12                                  Bhaukapur,   \n",
       "13              Lucknow, Uttar Pradesh, 226401   \n",
       "14                                          IN   \n",
       "15                                               \n",
       "16                                               \n",
       "17                                               \n",
       "18                          PAN No: AALCR3173P   \n",
       "19                                               \n",
       "20        GST Registration No: 09AALCR3173P1ZL   \n",
       "21                                               \n",
       "22                                               \n",
       "23                                               \n",
       "24                                               \n",
       "25                                               \n",
       "26           Order Number: 405-8002819-1037154   \n",
       "27                      Order Date: 04.12.2023   \n",
       "28                                               \n",
       "\n",
       "                                                 1  \n",
       "0                                Billing Address :  \n",
       "1                                Ashish Srivastava  \n",
       "2                                                   \n",
       "3   Block A Flat 201 Sonestaa Meadows thubrahalli,  \n",
       "4                             Whitefield bangalore  \n",
       "5                                                   \n",
       "6                     Bengaluru, KARNATAKA, 560066  \n",
       "7                                                   \n",
       "8                                               IN  \n",
       "9                                                   \n",
       "10                               State/UT Code: 29  \n",
       "11                                                  \n",
       "12                                                  \n",
       "13                                                  \n",
       "14                              Shipping Address :  \n",
       "15                               Ashish Srivastava  \n",
       "16                               Ashish Srivastava  \n",
       "17  Block A Flat 201 Sonestaa Meadows thubrahalli,  \n",
       "18                                                  \n",
       "19                            Whitefield bangalore  \n",
       "20                                                  \n",
       "21                    Bengaluru, KARNATAKA, 560066  \n",
       "22                                              IN  \n",
       "23                               State/UT Code: 29  \n",
       "24                      Place of supply: KARNATAKA  \n",
       "25                    Place of delivery: KARNATAKA  \n",
       "26                   Invoice Number : LKO1-2209551  \n",
       "27       Invoice Details : UP-LKO1-1931441115-2324  \n",
       "28                       Invoice Date : 04.12.2023  "
      ]
     },
     "execution_count": 349,
     "metadata": {},
     "output_type": "execute_result"
    }
   ],
   "source": [
    "df"
   ]
  },
  {
   "cell_type": "code",
   "execution_count": 350,
   "id": "734d9dfa",
   "metadata": {},
   "outputs": [],
   "source": [
    "invoice[\"invoice_number\"] = buyer_details.split(\"Invoice Details :\", 1)[1].split(\"Invoice Date :\", 1)[0].strip()"
   ]
  },
  {
   "cell_type": "code",
   "execution_count": 351,
   "id": "130aee8c",
   "metadata": {},
   "outputs": [],
   "source": [
    "invoice[\"invoice_date\"] = buyer_details.split(\"Invoice Date :\", 1)[1].strip()"
   ]
  },
  {
   "cell_type": "code",
   "execution_count": 352,
   "id": "0882fd36",
   "metadata": {},
   "outputs": [
    {
     "name": "stderr",
     "output_type": "stream",
     "text": [
      "CropBox missing from /Page, defaulting to MediaBox\n",
      "CropBox missing from /Page, defaulting to MediaBox\n"
     ]
    }
   ],
   "source": [
    "all_extracted_tables = []\n",
    "with pdfplumber.open(pdf_path) as pdf:\n",
    "        page = pdf.pages[0]\n",
    "        tables = page.extract_tables()\n",
    "if tables:\n",
    "        for i, table_data in enumerate(tables):\n",
    "                df = pd.DataFrame(table_data[1:], columns=table_data[0])\n",
    "                all_extracted_tables.append(df)"
   ]
  },
  {
   "cell_type": "code",
   "execution_count": 353,
   "id": "0533d84c",
   "metadata": {},
   "outputs": [],
   "source": [
    "invoice[\"product_name\"] = \" \".join(all_extracted_tables[0][\"Description\"][0].split(\"HSN:\", 1)[0].split(\"\\n\")).strip()"
   ]
  },
  {
   "cell_type": "code",
   "execution_count": 354,
   "id": "62df982e",
   "metadata": {},
   "outputs": [],
   "source": [
    "invoice[\"product_category\"] = None"
   ]
  },
  {
   "cell_type": "code",
   "execution_count": 355,
   "id": "c2e51af4",
   "metadata": {},
   "outputs": [
    {
     "data": {
      "text/html": [
       "<div>\n",
       "<style scoped>\n",
       "    .dataframe tbody tr th:only-of-type {\n",
       "        vertical-align: middle;\n",
       "    }\n",
       "\n",
       "    .dataframe tbody tr th {\n",
       "        vertical-align: top;\n",
       "    }\n",
       "\n",
       "    .dataframe thead th {\n",
       "        text-align: right;\n",
       "    }\n",
       "</style>\n",
       "<table border=\"1\" class=\"dataframe\">\n",
       "  <thead>\n",
       "    <tr style=\"text-align: right;\">\n",
       "      <th></th>\n",
       "      <th>Sl.\\nNo</th>\n",
       "      <th>Description</th>\n",
       "      <th>Unit\\nPrice</th>\n",
       "      <th>Qty</th>\n",
       "      <th>Net\\nAmount</th>\n",
       "      <th>Tax\\nRate</th>\n",
       "      <th>Tax\\nType</th>\n",
       "      <th>Tax\\nAmount</th>\n",
       "      <th>Total\\nAmount</th>\n",
       "    </tr>\n",
       "  </thead>\n",
       "  <tbody>\n",
       "    <tr>\n",
       "      <th>0</th>\n",
       "      <td>1</td>\n",
       "      <td>Gear Campus8 25L Medium Water Resistant School...</td>\n",
       "      <td>₹550.00</td>\n",
       "      <td>1</td>\n",
       "      <td>₹550.00</td>\n",
       "      <td>18%</td>\n",
       "      <td>IGST</td>\n",
       "      <td>₹99.00</td>\n",
       "      <td>₹649.00</td>\n",
       "    </tr>\n",
       "    <tr>\n",
       "      <th>1</th>\n",
       "      <td>TOTAL:</td>\n",
       "      <td>None</td>\n",
       "      <td>None</td>\n",
       "      <td>None</td>\n",
       "      <td>None</td>\n",
       "      <td>None</td>\n",
       "      <td>None</td>\n",
       "      <td>₹99.00</td>\n",
       "      <td>₹649.00</td>\n",
       "    </tr>\n",
       "    <tr>\n",
       "      <th>2</th>\n",
       "      <td>Amount in Words:\\nSix Hundred Forty-nine only</td>\n",
       "      <td>None</td>\n",
       "      <td>None</td>\n",
       "      <td>None</td>\n",
       "      <td>None</td>\n",
       "      <td>None</td>\n",
       "      <td>None</td>\n",
       "      <td>None</td>\n",
       "      <td>None</td>\n",
       "    </tr>\n",
       "    <tr>\n",
       "      <th>3</th>\n",
       "      <td>For RETAILEZ PRIVATE LIMITED:\\nAuthorized Sign...</td>\n",
       "      <td>None</td>\n",
       "      <td>None</td>\n",
       "      <td>None</td>\n",
       "      <td>None</td>\n",
       "      <td>None</td>\n",
       "      <td>None</td>\n",
       "      <td>None</td>\n",
       "      <td>None</td>\n",
       "    </tr>\n",
       "  </tbody>\n",
       "</table>\n",
       "</div>"
      ],
      "text/plain": [
       "                                             Sl.\\nNo  \\\n",
       "0                                                  1   \n",
       "1                                             TOTAL:   \n",
       "2      Amount in Words:\\nSix Hundred Forty-nine only   \n",
       "3  For RETAILEZ PRIVATE LIMITED:\\nAuthorized Sign...   \n",
       "\n",
       "                                         Description Unit\\nPrice   Qty  \\\n",
       "0  Gear Campus8 25L Medium Water Resistant School...     ₹550.00     1   \n",
       "1                                               None        None  None   \n",
       "2                                               None        None  None   \n",
       "3                                               None        None  None   \n",
       "\n",
       "  Net\\nAmount Tax\\nRate Tax\\nType Tax\\nAmount Total\\nAmount  \n",
       "0     ₹550.00       18%      IGST      ₹99.00       ₹649.00  \n",
       "1        None      None      None      ₹99.00       ₹649.00  \n",
       "2        None      None      None        None          None  \n",
       "3        None      None      None        None          None  "
      ]
     },
     "execution_count": 355,
     "metadata": {},
     "output_type": "execute_result"
    }
   ],
   "source": [
    "all_extracted_tables[0]"
   ]
  },
  {
   "cell_type": "code",
   "execution_count": 356,
   "id": "a4db4ae9",
   "metadata": {},
   "outputs": [],
   "source": [
    "invoice[\"product_taxable_value\"] = all_extracted_tables[0][\"Net\\nAmount\"][0].strip(\"₹\")"
   ]
  },
  {
   "cell_type": "code",
   "execution_count": 357,
   "id": "775c7d01",
   "metadata": {},
   "outputs": [
    {
     "data": {
      "text/plain": [
       "'550.00'"
      ]
     },
     "execution_count": 357,
     "metadata": {},
     "output_type": "execute_result"
    }
   ],
   "source": [
    "invoice[\"product_taxable_value\"]"
   ]
  },
  {
   "cell_type": "code",
   "execution_count": 358,
   "id": "13c05683",
   "metadata": {},
   "outputs": [],
   "source": [
    "invoice[\"GST\"] = str(pd.to_numeric(all_extracted_tables[0][\"Tax\\nAmount\"].astype(str).str.strip(\"₹\"), errors='coerce').sum())"
   ]
  },
  {
   "cell_type": "code",
   "execution_count": 359,
   "id": "f9e72700",
   "metadata": {},
   "outputs": [],
   "source": [
    "invoice[\"product_quantity\"] = all_extracted_tables[0][\"Qty\"][0]"
   ]
  },
  {
   "cell_type": "code",
   "execution_count": 360,
   "id": "66a5fcc5",
   "metadata": {},
   "outputs": [],
   "source": [
    "invoice[\"product_total\"] = all_extracted_tables[0][\"Total\\nAmount\"][0].strip(\"₹\")"
   ]
  },
  {
   "cell_type": "code",
   "execution_count": 361,
   "id": "f031243d",
   "metadata": {},
   "outputs": [
    {
     "data": {
      "text/plain": [
       "{'seller name': 'RETAILEZ PRIVATE LIMITED',\n",
       " 'seller_address': 'Khasra numbers:444(P),445(P),459(P),  460,461,462,463,464,  465,466,467,468,469,470,471,472,473,474,,,  75(P),476,477,478, 479,480,  481,482,483(P),491,492,493(P) Village - Bhaukapur, Lucknow, Uttar Pradesh, 226401 IN',\n",
       " 'pan_number': 'AALCR3173P',\n",
       " 'gst_number': '09AALCR3173P1Z',\n",
       " 'order_id': '405-8002819-1037154',\n",
       " 'order_date': '04.12.2023',\n",
       " 'bill_to_name': 'Ashish Srivastava',\n",
       " 'bill_to_address': 'Block A Flat 201 Sonestaa Meadows thubrahalli, Whitefield bangalore  Bengaluru, KARNATAKA, 560066  IN',\n",
       " 'ship_to_address': 'Block A Flat 201 Sonestaa Meadows thubrahalli, Whitefield bangalore  Bengaluru, KARNATAKA, 560066  IN',\n",
       " 'ship_to_name': 'Ashish Srivastava',\n",
       " 'invoice_number': 'UP-LKO1-1931441115-2324',\n",
       " 'invoice_date': '04.12.2023',\n",
       " 'product_name': 'Gear Campus8 25L Medium Water Resistant School Bag/Casual Backpack/Daypack/College Bag/for Men/Women - Green Grey | B019FBEJCO ( B019FBEJCO )',\n",
       " 'product_category': None,\n",
       " 'product_taxable_value': '550.00',\n",
       " 'GST': '198.0',\n",
       " 'product_quantity': '1',\n",
       " 'product_total': '649.00'}"
      ]
     },
     "execution_count": 361,
     "metadata": {},
     "output_type": "execute_result"
    }
   ],
   "source": [
    "invoice"
   ]
  },
  {
   "cell_type": "code",
   "execution_count": null,
   "id": "bc92060c",
   "metadata": {},
   "outputs": [],
   "source": []
  }
 ],
 "metadata": {
  "kernelspec": {
   "display_name": "Python 3",
   "language": "python",
   "name": "python3"
  },
  "language_info": {
   "codemirror_mode": {
    "name": "ipython",
    "version": 3
   },
   "file_extension": ".py",
   "mimetype": "text/x-python",
   "name": "python",
   "nbconvert_exporter": "python",
   "pygments_lexer": "ipython3",
   "version": "3.12.0"
  }
 },
 "nbformat": 4,
 "nbformat_minor": 5
}
